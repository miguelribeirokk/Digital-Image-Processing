{
 "cells": [
  {
   "cell_type": "markdown",
   "source": [
    "### Neste arquivo notebook, vamos descrever diversas funções da biblioteca OpenCV, com exemplos, para processamento digital de imagens, focando somente em contornos."
   ],
   "metadata": {
    "collapsed": false
   },
   "id": "3111276304df8c79"
  },
  {
   "cell_type": "markdown",
   "source": [
    "______________________\n",
    "\n",
    "## Função `findContours()`\n",
    "\n",
    "####    A função `findContours()` da OpenCV usa o algoritmo de detecção de contornos de Suzuki e Abe, baseado no algoritmo de rasterização de varredura de Moore. Esse algoritmo é amplamente conhecido como algoritmo de \"cadeia\" ou \"cadeia de contorno\". O algoritmo começa varrendo a imagem da esquerda para a direita e de cima para baixo. Ele segue os pixels do objeto (pixels brancos numa imagem binária) e registra as coordenadas desses pixels.\n",
    "\n",
    "______________________\n",
    "\n",
    "\n",
    "## Parâmetros:\n",
    "\n",
    "#### `image` fonte, uma imagem de canal único em 8 bits. Pixels não nulos são tratados como 1's. Pixels zero permanecem 0's, então a imagem é tratada como binária.\n",
    "\n",
    "#### `contours` contornos detectados. Cada contorno é armazenado como um vetor de pontos.\n",
    "\n",
    "#### `hierarchy` vetor de saída opcional, contendo informações sobre a topologia da imagem. Tem tantos elementos quanto o número de contornos. Para cada i-ésimo contorno contours[i], os elementos hierarchy[i][0], hierarchy[i][1], hierarchy[i][2] e hierarchy[i][3] são definidos como índices baseados em 0 nos contornos do próximo e do contorno anterior no mesmo nível hierárquico, o primeiro contorno filho e o contorno pai, respectivamente. Se para o contorno i não houver próximos, anteriores, pai ou contornos aninhados, os elementos correspondentes de hierarchy[i] serão negativos.\n",
    "\n",
    "#### `mode` modo de recuperação de contornos, veja RetrievalModes.\n",
    "\n",
    "#### `method` método de aproximação de contornos, veja ContourApproximationModes.\n",
    "\n",
    "#### `offset` deslocamento opcional pelo qual cada ponto do contorno é deslocado. Isso é útil se os contornos forem extraídos da região de interesse (ROI) da imagem e, em seguida, analisados no contexto da imagem inteira.\n",
    "\n",
    "______________________\n",
    "\n",
    "## Detecção de contornos:\n",
    "\n",
    "#### `cv.CHAIN_APPROX_NONE` todos os pontos de limite são armazenados.\n",
    "#### `cv.CHAIN_APPROX_SIMPLE` remove todos os pontos redundantes e comprime o contorno, economizando memória.\n",
    "\n",
    "______________________\n",
    "\n",
    "## Recuperação do contorno:\n",
    "\n",
    "#### `cv2.RETR_EXTERNAL` para recuperar apenas os contornos externos,\n",
    "#### `cv2.RETR_LIST` para recuperar todos os contornos sem hierarquia,\n",
    "\n",
    "______________________\n",
    "\n",
    "## Extração de contornos:\n",
    "\n",
    "#### `cv.RETR_EXTERNAL` recupera apenas os contornos externos extremos. Define hierarquia[i][2]=hierarquia[i][3]=-1 para todos os contornos.\n",
    "\n",
    "####  `cv.RETR_LIST` recupera todos os contornos sem estabelecer nenhuma relação hierárquica.\n",
    "\n",
    "####  `cv.RETR_CCOMP` recupera todos os contornos e os organiza em uma hierarquia de dois níveis. No nível superior, estão os contornos externos. No segundo nível, existem contornos dos internos. Se houver outro contorno dentro de um componente conectado, ele ainda será colocado no nível superior.\n",
    "\n",
    "#### `cv.RETR_TREE` recupera todos os contornos e reconstrói uma hierarquia completa de contornos aninhados.\n",
    "\n",
    "______________________"
   ],
   "metadata": {
    "collapsed": false
   },
   "id": "5c6698d9228a223d"
  },
  {
   "cell_type": "code",
   "outputs": [],
   "source": [
    "# Utilizando find contours\n",
    "import cv2\n",
    "\n",
    "# Conversão para escala cinza\n",
    "image = cv2.imread('camisa.png')\n",
    "img_gray = cv2.cvtColor(image, cv2.COLOR_BGR2GRAY)\n",
    "cv2.imshow('Imagem Cinza', img_gray)\n",
    "cv2.waitKey(0)\n",
    "cv2.destroyAllWindows()\n",
    "\n",
    "# Threshold da imagem\n",
    "ret, thresh = cv2.threshold(img_gray, 200, 255, cv2.THRESH_BINARY)\n",
    "cv2.imshow('Imagem Binaria', thresh)\n",
    "cv2.waitKey(0)\n",
    "cv2.destroyAllWindows()\n",
    "\n",
    "# Contornos\n",
    "contours, hierarchy = cv2.findContours(image=thresh, mode=cv2.RETR_TREE, method=cv2.CHAIN_APPROX_NONE)"
   ],
   "metadata": {
    "collapsed": false,
    "ExecuteTime": {
     "end_time": "2024-07-26T19:42:30.200128314Z",
     "start_time": "2024-07-26T19:42:24.335191776Z"
    }
   },
   "id": "efab60368f47ebcf",
   "execution_count": 3
  },
  {
   "cell_type": "markdown",
   "source": [
    "______________________\n",
    "\n",
    "## Função `drawContours()`\n",
    "\n",
    "#### Utilizada para desenhar um contorno nas imagens RGB identificadas. Requer 4 parâmetros e tem outros opcionais, descritos abaixo:\n",
    "\n",
    "______________________\n",
    "\n",
    "## Parâmetros:\n",
    "\n",
    "#### `image` imagem RGB de entrada.\n",
    "\n",
    "#### `contours` o vetor de contornos retornados pela função.\n",
    "\n",
    "#### `contourIdx` vetor com as coordenadas de cada contorno. Usando este argumento, você pode especificar a posição do índice desta lista, indicando exatamente qual ponto de contorno você deseja desenhar. Fornecer um valor negativo irá desenhar todos os pontos de contorno.\n",
    "\n",
    "#### `color` a cor desejada para desenhar o contono.\n",
    "\n",
    "#### `thickness` a espessura do contorno. Valores negativos vão resultar em preenchimento da figura.\n",
    "\n",
    "#### `lineType` conectividade da linha.\n",
    "\n",
    "#### `hierarchy` informação opcional sobre a hierarquia. É necessária apenas se você quiser desenhar apenas alguns dos contornos.\n",
    "\n",
    "#### `maxLevel` nível máximo para contornos desenhados. Se for 0, apenas o contorno especificado é desenhado. Se for 1, a função desenha o(s) contorno(s) e todos os contornos aninhados. Se for 2, a função desenha os contornos, todos os contornos aninhados, todos os contornos aninhados aos aninhados, e assim por diante. Este parâmetro só é considerado quando há hierarquia disponível.\n",
    "\n",
    "#### `offset` Parâmetro opcional de deslocamento do contorno. Desloca todos os contornos desenhados pelo deslocamento especificado=(dx,dy).\n",
    "______________________\n",
    "\n",
    "## Exemplos:\n",
    "\n",
    "`findContours()` | `cv2.RETR_TREE | cv2.CHAIN_APPROX_NONE`\n"
   ],
   "metadata": {
    "collapsed": false
   },
   "id": "618d4e09d0d5b82f"
  },
  {
   "cell_type": "code",
   "outputs": [
    {
     "name": "stdout",
     "output_type": "stream",
     "text": [
      "Quantidade de objetos: 8\n"
     ]
    }
   ],
   "source": [
    "image_copy = image.copy()\n",
    "\n",
    "cv2.drawContours(image=image_copy,contours=contours, contourIdx=-1, color=(0,255,0), thickness=2, lineType=cv2.LINE_AA)\n",
    "\n",
    "print(\"Quantidade de objetos: \" + str(len(contours)))\n",
    "cv2.imshow('Desenhando contornos usando CHAIN_APPROX_NONE', image_copy)\n",
    "cv2.waitKey(0)\n",
    "cv2.destroyAllWindows()"
   ],
   "metadata": {
    "collapsed": false,
    "ExecuteTime": {
     "end_time": "2024-07-19T20:08:56.469212714Z",
     "start_time": "2024-07-19T20:08:56.233429805Z"
    }
   },
   "id": "fb92b3b35b241fd2",
   "execution_count": 137
  },
  {
   "cell_type": "markdown",
   "source": [
    "`findContours()` | `cv2.RETR_TREE | cv2.CHAIN_APPROX_SIMPLE`"
   ],
   "metadata": {
    "collapsed": false
   },
   "id": "d80f6e5dc5ef57cc"
  },
  {
   "cell_type": "code",
   "outputs": [
    {
     "name": "stdout",
     "output_type": "stream",
     "text": [
      "Quantidade de objetos: 8\n"
     ]
    }
   ],
   "source": [
    "contours2, hierarchy2 = cv2.findContours(image=thresh, mode=cv2.RETR_TREE, method=cv2.CHAIN_APPROX_SIMPLE)\n",
    "\n",
    "image_copy = image.copy()\n",
    "\n",
    "cv2.drawContours(image=image_copy,contours=contours2, contourIdx=-1, color=(0,255,0), thickness=2, lineType=cv2.LINE_AA)\n",
    "\n",
    "print(\"Quantidade de objetos: \" + str(len(contours2)))\n",
    "cv2.imshow('Desenhando contornos usando CHAIN_APPROX_SIMPLE', image_copy)\n",
    "cv2.waitKey(0)\n",
    "cv2.destroyAllWindows()"
   ],
   "metadata": {
    "collapsed": false,
    "ExecuteTime": {
     "end_time": "2024-07-19T20:08:58.886232174Z",
     "start_time": "2024-07-19T20:08:56.458235869Z"
    }
   },
   "id": "a8b5bcb293d5e4d6",
   "execution_count": 138
  },
  {
   "cell_type": "markdown",
   "source": [
    "______________________\n",
    "\n",
    "## Hierarquia\n",
    "\n",
    "* #### Se existem objetos dentro de outros objetos, existe uma hierarquia dos contornos. A hierarquia pode ser representada por [Next, Previous, First_Child, Parent]\n",
    "\n",
    "* #### Next: Indica o próximo contorno em uma imagem, que está no mesmo nível hierárquico. Quando este valor é -1, indica que o próximo contorno não está no mesmo nivel hierarquico.\n",
    "* #### Previous: Indica o contorno anterior no mesmo nível hierárquico. Se este valor é -1, é porque o contorno anterior da hierarquia não está no mesmo nivel.\n",
    "* #### First-child: Indica o primeiro contorno filho do contorno que estamos considerando atualmente. O valor -1 indica que não tem nenhum filho (contorno interno)\n",
    "* #### Parent: Indica a posição de índice do contorno pai para o contorno atual. -1 indica que não tem contorno pai (externo)\n",
    "\n",
    "______________________ \n",
    "### Cenários comuns:\n",
    "\n",
    "* #### Contornos independentes: Se o valor de Next for -1 e o valor de Previous também for - 1, significa que o contorno atual não tem contornos irmãos no mesmo nível hierárquico.\n",
    "* #### Contornos aninhados: Se o valor de First_Child for diferente de -1, isso significa que o contorno atual tem pelo menos um contorno filho. O valor de First_Child indica o índice do primeiro contorno filho.\n",
    "\n",
    "* #### Contornos externos: Se o valor de Parent for -1, significa que o contorno atual não tem um contorno pai. Esses são os contornos mais externos na hierarquia.\n",
    "\n",
    "* #### Contornos conectados: Através da hierarquia, é possível identificar contornos que estão conectados uns aos outros. Ao percorrer a hierarquia, você pode acessar os contornos vizinhos, pais ou filhos de um determinado contorno.\n",
    "______________________\n",
    "### Exemplos: \n",
    "\n",
    "#### `cv2.RETR_TREE`"
   ],
   "metadata": {
    "collapsed": false
   },
   "id": "bce61db5ef2fb384"
  },
  {
   "cell_type": "code",
   "outputs": [
    {
     "name": "stdout",
     "output_type": "stream",
     "text": [
      "Quantidade de objetos: 8\n",
      "Matriz de hierarquias:\n",
      "  [[[-1 -1  1 -1]\n",
      "  [ 2 -1 -1  0]\n",
      "  [ 4  1  3  0]\n",
      "  [-1 -1 -1  2]\n",
      "  [-1  2  5  0]\n",
      "  [-1 -1  6  4]\n",
      "  [-1 -1  7  5]\n",
      "  [-1 -1 -1  6]]]\n"
     ]
    }
   ],
   "source": [
    "import numpy as np\n",
    "\n",
    "# Hierarquia de contornos\n",
    "if len(contours) == 0:\n",
    "    print(\"Nenhum contorno foi encontrado.\")\n",
    "else:\n",
    "    # Cria uma cópia da imagem original para desenhar os contornos\n",
    "    image_copy = image.copy()\n",
    "\n",
    "    # Desenha todos os contornos encontrados na imagem\n",
    "    cv2.drawContours(image=image_copy, contours=contours, contourIdx=-1, color=(0, 255, 0), thickness=2, lineType=cv2.LINE_AA)\n",
    "\n",
    "    # Configurações para o texto a ser exibido\n",
    "    font = cv2.FONT_HERSHEY_SIMPLEX\n",
    "    fontScale = 0.6\n",
    "    color = (0, 0, 255)\n",
    "    thickness = 1\n",
    "    i = 0\n",
    "\n",
    "    for c in contours:\n",
    "        # Obtém o retângulo delimitador para o contorno\n",
    "        x, y, w, h = cv2.boundingRect(c)\n",
    "\n",
    "        # Cria o texto para exibir informações sobre o contorno e a hierarquia\n",
    "        texto = \"Contorno: \" + str(i) + \" \" + np.array2string(hierarchy[0][i])\n",
    "\n",
    "        # Desenha o texto na imagem\n",
    "        cv2.putText(image_copy, texto, (x, y + 10), font, fontScale, color, thickness, cv2.LINE_AA)\n",
    "\n",
    "        # Incrementa o contador de contornos\n",
    "        i += 1\n",
    "\n",
    "    # Exibe a quantidade de contornos encontrados\n",
    "    print(\"Quantidade de objetos: \" + str(len(contours)))\n",
    "\n",
    "    print(\"Matriz de hierarquias:\\n \", hierarchy)\n",
    "\n",
    "    # Exibe a imagem com os contornos desenhados e os textos adicionados\n",
    "    cv2.imshow(\"Hierarquia\", image_copy)\n",
    "    cv2.waitKey(0)\n",
    "    cv2.destroyAllWindows()"
   ],
   "metadata": {
    "collapsed": false,
    "ExecuteTime": {
     "end_time": "2024-07-19T20:08:59.854245850Z",
     "start_time": "2024-07-19T20:08:58.898432461Z"
    }
   },
   "id": "c7f4db32da8143bb",
   "execution_count": 139
  },
  {
   "cell_type": "markdown",
   "source": [
    "______________________\n",
    "\n",
    "## Resumo da hierarquia \n",
    "\n",
    "* #### Contorno 0: Um contorno externo sem filhos.\n",
    "* #### Contorno 1: Um contorno externo com um filho (contorno 2).\n",
    "* #### Contorno 2: Filho do contorno 1, sem filhos próprios.\n",
    "* #### Contorno 3: Um contorno externo com um filho (contorno 4).\n",
    "* #### Contorno 4: Filho do contorno 3, com um filho (contorno 5).\n",
    "* #### Contorno 5: Filho do contorno 4, com um filho (contorno 6).\n",
    "* #### Contorno 6: Filho do contorno 5, sem filhos próprios.\n",
    "______________________\n",
    "\n",
    "### Contornos externos\n",
    "\n",
    "#### `cv2.RETR_EXTERNAL`"
   ],
   "metadata": {
    "collapsed": false
   },
   "id": "2dd48482809bf785"
  },
  {
   "cell_type": "code",
   "outputs": [
    {
     "name": "stdout",
     "output_type": "stream",
     "text": [
      "Quantidade de objetos: 3\n"
     ]
    }
   ],
   "source": [
    "# Aplicação do ‘threshold’ binário\n",
    "ret, thresh = cv2.threshold(img_gray, 200, 255, cv2.THRESH_BINARY_INV)\n",
    "\n",
    "# Encontrar contornos com o modo cv2.RETR_EXTERNAL\n",
    "contours, hierarchy = cv2.findContours(image=thresh, mode=cv2.RETR_EXTERNAL, method=cv2.CHAIN_APPROX_NONE)\n",
    "\n",
    "# Hierarquia de contornos\n",
    "if len(contours) == 0:\n",
    "    print(\"Nenhum contorno foi encontrado.\")\n",
    "else:\n",
    "    # Cria uma cópia da imagem original para desenhar os contornos\n",
    "    image_copy = image.copy()\n",
    "\n",
    "    # Desenha todos os contornos encontrados na imagem\n",
    "    cv2.drawContours(image=image_copy, contours=contours, contourIdx=-1, color=(0, 255, 0), thickness=2, lineType=cv2.LINE_AA)\n",
    "\n",
    "    # Configurações para o texto a ser exibido\n",
    "    font = cv2.FONT_HERSHEY_SIMPLEX\n",
    "    fontScale = 0.6\n",
    "    color = (0, 0, 255)\n",
    "    thickness = 1\n",
    "    i = 0\n",
    "\n",
    "    for c in contours:\n",
    "        # Obtém o retângulo delimitador para o contorno\n",
    "        x, y, w, h = cv2.boundingRect(c)\n",
    "\n",
    "        # Cria o texto para exibir informações sobre o contorno e a hierarquia\n",
    "        texto = \"Contorno: \" + str(i) + \" \" + np.array2string(hierarchy[0][i])\n",
    "\n",
    "        # Desenha o texto na imagem\n",
    "        cv2.putText(image_copy, texto, (x, y + 10), font, fontScale, color, thickness, cv2.LINE_AA)\n",
    "\n",
    "        # Incrementa o contador de contornos\n",
    "        i += 1\n",
    "\n",
    "    # Exibe a quantidade de contornos encontrados\n",
    "    print(\"Quantidade de objetos: \" + str(len(contours)))\n",
    "\n",
    "    # Exibe a imagem com os contornos desenhados e os textos adicionados\n",
    "    cv2.imshow(\"Contornos externos\", image_copy)\n",
    "    cv2.waitKey(0)\n",
    "    cv2.destroyAllWindows()\n"
   ],
   "metadata": {
    "collapsed": false,
    "ExecuteTime": {
     "end_time": "2024-07-19T20:09:01.177497490Z",
     "start_time": "2024-07-19T20:08:59.863769832Z"
    }
   },
   "id": "e1f07908df8a5530",
   "execution_count": 140
  },
  {
   "cell_type": "markdown",
   "source": [
    "______________________\n",
    "\n",
    "## Momento\n",
    "\n",
    "* ####  A função `cv2.moments` calcula os momentos de um contorno ou de uma imagem binária. Os momentos são úteis para a análise de formas, pois podem ser usados para calcular propriedades como área, centroide e outras características geométricas de um objeto.\n",
    "\n",
    "* #### Cálculo dos Momentos: A função `cv2.moments` é usada para calcular os momentos de cada contorno.\n",
    "* #### Cálculo da Área e Centroide: Usando os momentos, a área (M['m00']) e o centroide (cx e cy) são calculados.\n",
    "* #### Exibição das Propriedades: A área e o centroide são adicionados ao texto exibido na imagem para cada contorno.\n",
    "______________________"
   ],
   "metadata": {
    "collapsed": false
   },
   "id": "c7012523616b87a3"
  },
  {
   "cell_type": "code",
   "outputs": [
    {
     "name": "stdout",
     "output_type": "stream",
     "text": [
      "Quantidade de objetos: 10\n"
     ]
    }
   ],
   "source": [
    "# Leitura da imagem\n",
    "image = cv2.imread('random_shapes.png')\n",
    "\n",
    "# Conversão para escala de cinza\n",
    "img_gray = cv2.cvtColor(image, cv2.COLOR_BGR2GRAY)\n",
    "\n",
    "# Aplicação do ‘threshold’ binário\n",
    "ret, thresh = cv2.threshold(img_gray, 200, 255, cv2.THRESH_BINARY)\n",
    "\n",
    "# Encontrar contornos com o modo cv2.RETR_EXTERNAL\n",
    "contours, hierarchy = cv2.findContours(image=thresh, mode=cv2.RETR_EXTERNAL, method=cv2.CHAIN_APPROX_NONE)\n",
    "\n",
    "# Hierarquia de contornos\n",
    "if len(contours) == 0:\n",
    "    print(\"Nenhum contorno foi encontrado.\")\n",
    "else:\n",
    "    # Cria uma cópia da imagem original para desenhar os contornos\n",
    "    image_copy = image.copy()\n",
    "\n",
    "    # Desenha todos os contornos encontrados na imagem\n",
    "    cv2.drawContours(image=image_copy, contours=contours, contourIdx=-1, color=(0, 255, 0), thickness=2, lineType=cv2.LINE_AA)\n",
    "\n",
    "    # Configurações para o texto a ser exibido\n",
    "    font = cv2.FONT_HERSHEY_SIMPLEX\n",
    "    fontScale = 0.6\n",
    "    color = (0, 0, 255)\n",
    "    thickness = 1\n",
    "    i = 0\n",
    "\n",
    "    for c in contours:\n",
    "        # Obtém o retângulo delimitador para o contorno\n",
    "        x, y, w, h = cv2.boundingRect(c)\n",
    "\n",
    "        # Cria o texto para exibir informações sobre o contorno e a hierarquia\n",
    "        texto = \"Contorno: \" + str(i) + \" \" + np.array2string(hierarchy[0][i])\n",
    "\n",
    "        # Desenha o texto na imagem\n",
    "        cv2.putText(image_copy, texto, (x, y + 10), font, fontScale, color, thickness, cv2.LINE_AA)\n",
    "        \n",
    "        '''\n",
    "        Cálculo dos momentos, área e centróide\n",
    "        '''\n",
    "        # Calcula os momentos do contorno\n",
    "        M = cv2.moments(c)\n",
    "\n",
    "        # Calcula a área e o centroide do contorno\n",
    "        if M[\"m00\"] != 0:\n",
    "            cx = int(M[\"m10\"] / M[\"m00\"])\n",
    "            cy = int(M[\"m01\"] / M[\"m00\"])\n",
    "        else:\n",
    "            cx, cy = 0, 0\n",
    "        \n",
    "        # Adiciona a área e o centroide ao texto\n",
    "        texto_momentos = f\"Area: {M['m00']} Centroid: ({cx}, {cy})\"\n",
    "        cv2.putText(image_copy, texto_momentos, (x, y + 30), font, fontScale, color, thickness, cv2.LINE_AA)\n",
    "\n",
    "        # Incrementa o contador de contornos\n",
    "        i += 1\n",
    "\n",
    "    # Exibe a quantidade de contornos encontrados\n",
    "    print(\"Quantidade de objetos: \" + str(len(contours)))\n",
    "\n",
    "    # Exibe a imagem com os contornos desenhados e os textos adicionados\n",
    "    cv2.imshow(\"Momento\", image_copy)\n",
    "    cv2.waitKey(0)\n",
    "    cv2.destroyAllWindows()\n"
   ],
   "metadata": {
    "collapsed": false,
    "ExecuteTime": {
     "end_time": "2024-07-19T20:09:02.606409724Z",
     "start_time": "2024-07-19T20:09:01.195823665Z"
    }
   },
   "id": "78cff859e0c9f23",
   "execution_count": 141
  },
  {
   "cell_type": "markdown",
   "source": [
    "______________________\n",
    "## Área e perímetro\n",
    "\n",
    "* #### A função `cv2.contourArea` calcula a área de um contorno, enquanto `cv2.arcLength` calcula o perímetro (comprimento) de um contorno.\n",
    "* #### Cálculo da Área: area = `cv2.contourArea(c)` calcula a área de cada contorno.\n",
    "* #### Cálculo do Perímetro: perimetro = `cv2.arcLength(c, True)` calcula o perímetro de cada contorno.\n",
    "* #### Exibição das Propriedades: A área, o perímetro e o centroide são adicionados ao texto exibido na imagem para cada contorno.\n",
    "______________________"
   ],
   "metadata": {
    "collapsed": false
   },
   "id": "4e1d2892d9fe9a91"
  },
  {
   "cell_type": "code",
   "outputs": [
    {
     "name": "stdout",
     "output_type": "stream",
     "text": [
      "Quantidade de objetos: 10\n"
     ]
    }
   ],
   "source": [
    "# Encontrar contornos com o modo cv2.RETR_EXTERNAL\n",
    "contours, hierarchy = cv2.findContours(image=thresh, mode=cv2.RETR_EXTERNAL, method=cv2.CHAIN_APPROX_NONE)\n",
    "\n",
    "# Hierarquia de contornos\n",
    "if len(contours) == 0:\n",
    "    print(\"Nenhum contorno foi encontrado.\")\n",
    "else:\n",
    "    # Cria uma cópia da imagem original para desenhar os contornos\n",
    "    image_copy = image.copy()\n",
    "\n",
    "    # Desenha todos os contornos encontrados na imagem\n",
    "    cv2.drawContours(image=image_copy, contours=contours, contourIdx=-1, color=(0, 255, 0), thickness=2, lineType=cv2.LINE_AA)\n",
    "\n",
    "    # Configurações para o texto a ser exibido\n",
    "    font = cv2.FONT_HERSHEY_SIMPLEX\n",
    "    fontScale = 0.6\n",
    "    color = (0, 0, 255)\n",
    "    thickness = 1\n",
    "    i = 0\n",
    "\n",
    "    for c in contours:\n",
    "        # Obtém o retângulo delimitador para o contorno\n",
    "        x, y, w, h = cv2.boundingRect(c)\n",
    "\n",
    "        # Calcula a área do contorno\n",
    "        area = cv2.contourArea(c)\n",
    "\n",
    "        # Calcula o perímetro do contorno\n",
    "        perimetro = cv2.arcLength(c, True)\n",
    "\n",
    "        # Cria o texto para exibir a área e o perímetro do contorno\n",
    "        texto = f\"Area: {area:.2f} Perimetro: {perimetro:.2f}\"\n",
    "\n",
    "        # Desenha o texto na imagem\n",
    "        cv2.putText(image_copy, texto, (x, y + 10), font, fontScale, color, thickness, cv2.LINE_AA)\n",
    "\n",
    "        # Incrementa o contador de contornos\n",
    "        i += 1\n",
    "\n",
    "    # Exibe a quantidade de contornos encontrados\n",
    "    print(\"Quantidade de objetos: \" + str(len(contours)))\n",
    "\n",
    "    # Exibe a imagem com os contornos desenhados e os textos adicionados\n",
    "    cv2.imshow(\"Area e perimetro\", image_copy)\n",
    "    cv2.waitKey(0)\n",
    "    cv2.destroyAllWindows()\n"
   ],
   "metadata": {
    "collapsed": false,
    "ExecuteTime": {
     "end_time": "2024-07-19T20:09:03.562769172Z",
     "start_time": "2024-07-19T20:09:02.619176534Z"
    }
   },
   "id": "80156be3e36cf9f",
   "execution_count": 142
  },
  {
   "cell_type": "markdown",
   "source": [
    "______________________\n",
    "\n",
    "## Aproximação de contorno\n",
    "\n",
    "* #### A função `cv2.approxPolyDP` aproxima um contorno usando um polígono com menos vértices baseado na precisão especificada pelo parâmtro `epsilon`.\n",
    "* #### O contorno original é desenhado em verde ((0, 255, 0)). \n",
    "* #### O contorno aproximado é desenhado em azul ((255, 0, 0)).\n",
    "\n",
    "______________________"
   ],
   "metadata": {
    "collapsed": false
   },
   "id": "eba6156d8199ff9a"
  },
  {
   "cell_type": "code",
   "outputs": [
    {
     "name": "stdout",
     "output_type": "stream",
     "text": [
      "Quantidade de objetos: 10\n"
     ]
    }
   ],
   "source": [
    "# Encontrar contornos com o modo cv2.RETR_EXTERNAL\n",
    "contours, hierarchy = cv2.findContours(image=thresh, mode=cv2.RETR_EXTERNAL, method=cv2.CHAIN_APPROX_NONE)\n",
    "\n",
    "# Hierarquia de contornos\n",
    "if len(contours) == 0:\n",
    "    print(\"Nenhum contorno foi encontrado.\")\n",
    "else:\n",
    "    # Cria uma cópia da imagem original para desenhar os contornos e aproximações\n",
    "    image_copy = image.copy()\n",
    "\n",
    "    # Configurações para o texto a ser exibido\n",
    "    font = cv2.FONT_HERSHEY_SIMPLEX\n",
    "    fontScale = 0.6\n",
    "    color = (0, 0, 255)\n",
    "    thickness = 1\n",
    "    i = 0\n",
    "\n",
    "    for c in contours:\n",
    "        # Aproximação do contorno usando epsilon = 1% do perímetro do contorno\n",
    "        epsilon = 0.02 * cv2.arcLength(c, True)\n",
    "        approx = cv2.approxPolyDP(c, epsilon, True)\n",
    "\n",
    "        # Desenha o contorno original na imagem\n",
    "        cv2.drawContours(image_copy, [c], -1, (0, 255, 0), 2)\n",
    "\n",
    "        # Desenha o contorno aproximado na imagem\n",
    "        cv2.drawContours(image_copy, [approx], -1, (255, 0, 0), 2)\n",
    "\n",
    "        # Obtém o retângulo delimitador para o contorno aproximado\n",
    "        x, y, w, h = cv2.boundingRect(approx)\n",
    "        \n",
    "        # Incrementa o contador de contornos\n",
    "        i += 1\n",
    "\n",
    "    # Exibe a quantidade de contornos encontrados\n",
    "    print(\"Quantidade de objetos: \" + str(len(contours)))\n",
    "    \n",
    "    # Exibe a imagem com os contornos originais e aproximados desenhados e os textos adicionados\n",
    "    cv2.imshow(\"Contornos e Aproximacoes\", image_copy)\n",
    "    cv2.waitKey(0)\n",
    "    cv2.destroyAllWindows()\n"
   ],
   "metadata": {
    "collapsed": false,
    "ExecuteTime": {
     "end_time": "2024-07-19T20:09:04.443525711Z",
     "start_time": "2024-07-19T20:09:03.571975343Z"
    }
   },
   "id": "4c6075da42cca838",
   "execution_count": 143
  },
  {
   "cell_type": "markdown",
   "source": [
    "________________\n",
    "\n",
    "## Convex Hull\n",
    "\n",
    "* #### O convex hull é a menor forma convexa que envolve todos os pontos de um contorno\n",
    "* #### Cálculo do convex hull: Utilizamos `cv2.convexHull(c)` para calcular o convex hull de cada contorno.\n",
    "* #### Desenho do convex hull: O convex hull é desenhado em vermelho ((255, 0, 0)) enquanto o contorno original é desenhado em verde ((0, 255, 0)).\n",
    "* #### Cálculo da área e perímetro do convex hull: São calculados e exibidos para o convex hull.\n",
    "________________\n",
    "\n"
   ],
   "metadata": {
    "collapsed": false
   },
   "id": "4b29de5faf2a8b32"
  },
  {
   "cell_type": "code",
   "outputs": [
    {
     "name": "stdout",
     "output_type": "stream",
     "text": [
      "Quantidade de objetos: 10\n"
     ]
    }
   ],
   "source": [
    "# Encontrar contornos com o modo cv2.RETR_EXTERNAL\n",
    "contours, _ = cv2.findContours(image=thresh, mode=cv2.RETR_EXTERNAL, method=cv2.CHAIN_APPROX_SIMPLE)\n",
    "\n",
    "# Verifica se foram encontrados contornos\n",
    "if len(contours) == 0:\n",
    "    print(\"Nenhum contorno foi encontrado.\")\n",
    "else:\n",
    "    # Cria uma cópia da imagem original para desenhar os contornos e o convex hull\n",
    "    image_copy = image.copy()\n",
    "\n",
    "    # Configurações para o texto a ser exibido\n",
    "    font = cv2.FONT_HERSHEY_SIMPLEX\n",
    "    fontScale = 0.6\n",
    "    color = (0, 0, 255)\n",
    "    thickness = 1\n",
    "    i = 0\n",
    "\n",
    "    for c in contours:\n",
    "        # Calcula o convex hull do contorno\n",
    "        hull = cv2.convexHull(c)\n",
    "\n",
    "        # Desenha o contorno original na imagem\n",
    "        cv2.drawContours(image_copy, [c], -1, (0, 255, 0), 2)\n",
    "\n",
    "        # Desenha o convex hull na imagem\n",
    "        cv2.drawContours(image_copy, [hull], -1, (255, 0, 0), 2)\n",
    "\n",
    "        # Calcula a área e o perímetro do convex hull\n",
    "        area = cv2.contourArea(hull)\n",
    "        perimetro = cv2.arcLength(hull, True)\n",
    "\n",
    "        # Obtém o retângulo delimitador para o convex hull\n",
    "        x, y, w, h = cv2.boundingRect(hull)\n",
    "\n",
    "        # Cria o texto para exibir a área e o perímetro do convex hull\n",
    "        texto = f\"Area: {area:.2f} Perimetro: {perimetro:.2f}\"\n",
    "\n",
    "        # Desenha o texto na imagem\n",
    "        cv2.putText(image_copy, texto, (x, y + 10), font, fontScale, color, thickness, cv2.LINE_AA)\n",
    "\n",
    "        # Incrementa o contador de contornos\n",
    "        i += 1\n",
    "\n",
    "    # Exibe a quantidade de contornos encontrados\n",
    "    print(\"Quantidade de objetos: \" + str(len(contours)))\n",
    "\n",
    "    # Exibe a imagem com os contornos e o convex hull desenhados e os textos adicionados\n",
    "    cv2.imshow(\"Convex Hull\", image_copy)\n",
    "    cv2.waitKey(0)\n",
    "    cv2.destroyAllWindows()\n"
   ],
   "metadata": {
    "collapsed": false,
    "ExecuteTime": {
     "end_time": "2024-07-19T20:09:05.120012916Z",
     "start_time": "2024-07-19T20:09:04.449253254Z"
    }
   },
   "id": "f45c4660a8991d5",
   "execution_count": 144
  },
  {
   "cell_type": "markdown",
   "source": [
    "____________\n",
    "\n",
    "## Retângulos delimitadores\n",
    "\n",
    "* #### Retângulo Delimitador Horizontal (Straight Bounding Rectangle): O retângulo que é paralelo aos eixos x e y da imagem. Usamos `cv2.boundingRect(c)` para obter as coordenadas do retângulo que é paralelo aos eixos da imagem e desenhamos com `cv2.rectangle`.\n",
    "* #### Retângulo Delimitador Rotacionado (Rotated Bounding Rectangle): O retângulo que pode estar rotacionado e é o mínimo retângulo que pode envolver o contorno. Usamos `cv2.minAreaRect(c)` para obter o retângulo mínimo rotacionado que envolve o contorno. Convertendo o retângulo rotacionado para pontos de contorno com `cv2.boxPoints(rect)` e desenhamos com `cv2.drawContours`.\n",
    "* #### Calculamos a área e o perímetro do retângulo rotacionado e desenhamos esses valores na imagem.\n",
    "____________\n"
   ],
   "metadata": {
    "collapsed": false
   },
   "id": "ab0a142e1ee3e885"
  },
  {
   "cell_type": "code",
   "outputs": [
    {
     "name": "stdout",
     "output_type": "stream",
     "text": [
      "Quantidade de objetos: 10\n"
     ]
    }
   ],
   "source": [
    "# Encontrar contornos com o modo cv2.RETR_EXTERNAL\n",
    "contours, _ = cv2.findContours(image=thresh, mode=cv2.RETR_EXTERNAL, method=cv2.CHAIN_APPROX_SIMPLE)\n",
    "\n",
    "# Verifica se foram encontrados contornos\n",
    "if len(contours) == 0:\n",
    "    print(\"Nenhum contorno foi encontrado.\")\n",
    "else:\n",
    "    # Cria uma cópia da imagem original para desenhar os retângulos\n",
    "    image_copy = image.copy()\n",
    "\n",
    "    # Configurações para o texto a ser exibido\n",
    "    font = cv2.FONT_HERSHEY_SIMPLEX\n",
    "    fontScale = 0.6\n",
    "    color = (0, 0, 255)\n",
    "    thickness = 1\n",
    "    i = 0\n",
    "\n",
    "    for c in contours:\n",
    "        # Retângulo delimitador horizontal (straight bounding rectangle)\n",
    "        x, y, w, h = cv2.boundingRect(c)\n",
    "        cv2.rectangle(image_copy, (x, y), (x + w, y + h), (0, 255, 0), 2)\n",
    "\n",
    "        # Retângulo delimitador rotacionado (rotated bounding rectangle)\n",
    "        rect = cv2.minAreaRect(c)\n",
    "        box = cv2.boxPoints(rect)\n",
    "        box = np.array(box, dtype=np.int32)\n",
    "        cv2.drawContours(image_copy, [box], 0, (255, 0, 0), 2)\n",
    "\n",
    "        # Calcula a área e o perímetro do retângulo rotacionado\n",
    "        area = cv2.contourArea(box)\n",
    "        perimetro = cv2.arcLength(box, True)\n",
    "\n",
    "        # Cria o texto para exibir a área e o perímetro do retângulo rotacionado\n",
    "        texto = f\"Area: {area:.2f} Perimetro: {perimetro:.2f}\"\n",
    "\n",
    "        # Desenha o texto na imagem\n",
    "        cv2.putText(image_copy, texto, (x, y - 10), font, fontScale, color, thickness, cv2.LINE_AA)\n",
    "\n",
    "        # Incrementa o contador de contornos\n",
    "        i += 1\n",
    "\n",
    "    # Exibe a quantidade de contornos encontrados\n",
    "    print(\"Quantidade de objetos: \" + str(len(contours)))\n",
    "\n",
    "    # Exibe a imagem com os retângulos delimitadores desenhados e os textos adicionados\n",
    "    cv2.imshow(\"Bounding Rectangles\", image_copy)\n",
    "    cv2.waitKey(0)\n",
    "    cv2.destroyAllWindows()\n"
   ],
   "metadata": {
    "collapsed": false,
    "ExecuteTime": {
     "end_time": "2024-07-19T20:09:05.759032499Z",
     "start_time": "2024-07-19T20:09:05.131719331Z"
    }
   },
   "id": "9974b69e74f26501",
   "execution_count": 145
  },
  {
   "cell_type": "markdown",
   "source": [
    "_______________\n",
    "\n",
    "## Círculo mínimo envolvente\n",
    "\n",
    "* #### A função `cv2.minEnclosingCircle`. Esse círculo é o menor círculo que pode envolver todo o contorno.\n",
    "* #### Usamos `cv2.minEnclosingCircle(c)` para encontrar o centro e o raio do círculo mínimo que pode envolver o contorno.\n",
    "* #### Usamos `cv2.circle(image_copy, center, radius, (255, 0, 0), 2)` para desenhar o círculo em azul ((255, 0, 0)).\n",
    "* #### A área do círculo é calculada como  pi × radius ^ 2.\n",
    "* #### O perímetro é calculado como 2 × pi × radius.\n",
    "_______________\n",
    "\n"
   ],
   "metadata": {
    "collapsed": false
   },
   "id": "38f076916a2b4d92"
  },
  {
   "cell_type": "code",
   "outputs": [
    {
     "name": "stdout",
     "output_type": "stream",
     "text": [
      "Quantidade de objetos: 10\n"
     ]
    }
   ],
   "source": [
    "# Encontrar contornos com o modo cv2.RETR_EXTERNAL\n",
    "contours, _ = cv2.findContours(image=thresh, mode=cv2.RETR_EXTERNAL, method=cv2.CHAIN_APPROX_SIMPLE)\n",
    "\n",
    "# Verifica se foram encontrados contornos\n",
    "if len(contours) == 0:\n",
    "    print(\"Nenhum contorno foi encontrado.\")\n",
    "else:\n",
    "    # Cria uma cópia da imagem original para desenhar os círculos\n",
    "    image_copy = image.copy()\n",
    "\n",
    "    # Configurações para o texto a ser exibido\n",
    "    font = cv2.FONT_HERSHEY_SIMPLEX\n",
    "    fontScale = 0.6\n",
    "    color = (0, 0, 255)\n",
    "    thickness = 1\n",
    "    i = 0\n",
    "\n",
    "    for c in contours:\n",
    "        # Calcula o círculo mínimo envolvente do contorno\n",
    "        (x, y), radius = cv2.minEnclosingCircle(c)\n",
    "        center = (int(x), int(y))\n",
    "        radius = int(radius)\n",
    "\n",
    "        # Desenha o círculo mínimo envolvente\n",
    "        cv2.circle(image_copy, center, radius, (255, 0, 0), 2)\n",
    "\n",
    "        # Calcula a área e o perímetro do círculo mínimo envolvente\n",
    "        area = np.pi * (radius ** 2)\n",
    "        perimetro = 2 * np.pi * radius\n",
    "\n",
    "        # Cria o texto para exibir a área e o perímetro do círculo\n",
    "        texto = f\"Area: {area:.2f} Perimetro: {perimetro:.2f}\"\n",
    "\n",
    "        # Desenha o texto na imagem\n",
    "        cv2.putText(image_copy, texto, (center[0] - radius, center[1] - radius - 10), font, fontScale, color, thickness, cv2.LINE_AA)\n",
    "\n",
    "        # Incrementa o contador de contornos\n",
    "        i += 1\n",
    "\n",
    "    # Exibe a quantidade de contornos encontrados\n",
    "    print(\"Quantidade de objetos: \" + str(len(contours)))\n",
    "\n",
    "    # Exibe a imagem com os círculos mínimos envolventes desenhados e os textos adicionados\n",
    "    cv2.imshow(\"Minimum Enclosing Circles\", image_copy)\n",
    "    cv2.waitKey(0)\n",
    "    cv2.destroyAllWindows()"
   ],
   "metadata": {
    "collapsed": false,
    "ExecuteTime": {
     "end_time": "2024-07-19T20:09:06.554994558Z",
     "start_time": "2024-07-19T20:09:05.768270987Z"
    }
   },
   "id": "53b74aa8305f355a",
   "execution_count": 146
  },
  {
   "cell_type": "markdown",
   "source": [
    "________________\n",
    "\n",
    "## Elipse\n",
    "\n",
    "* #### A função `cv2.fitEllipse`. Esta função ajusta uma elipse ao contorno fornecido e retorna o centro, os eixos e o ângulo da elipse.\n",
    "* #### Utilizamos `cv2.fitEllipse(c)` para ajustar uma elipse ao contorno c. Esta função retorna uma tupla contendo o centro da elipse, os tamanhos dos eixos e o ângulo de rotação.\n",
    "* #### Usamos `cv2.ellipse(image_copy, ellipse, (255, 0, 0), 2)` para desenhar a elipse em azul ((255, 0, 0)).\n",
    "* #### O texto inclui o centro da elipse, os tamanhos dos eixos e o ângulo de rotação. Este texto é posicionado próximo ao centro da elipse.\n",
    "* #### Verificamos se o contorno tem pelo menos 5 pontos com len(c) >= 5, pois é necessário um número mínimo de pontos para ajustar uma elipse.\n",
    "________________"
   ],
   "metadata": {
    "collapsed": false
   },
   "id": "8efab7533b669a33"
  },
  {
   "cell_type": "code",
   "outputs": [
    {
     "name": "stdout",
     "output_type": "stream",
     "text": [
      "Quantidade de objetos: 10\n"
     ]
    }
   ],
   "source": [
    "# Encontrar contornos com o modo cv2.RETR_EXTERNAL\n",
    "contours, _ = cv2.findContours(image=thresh, mode=cv2.RETR_EXTERNAL, method=cv2.CHAIN_APPROX_SIMPLE)\n",
    "\n",
    "# Verifica se foram encontrados contornos\n",
    "if len(contours) == 0:\n",
    "    print(\"Nenhum contorno foi encontrado.\")\n",
    "else:\n",
    "    # Cria uma cópia da imagem original para desenhar as elipses\n",
    "    image_copy = image.copy()\n",
    "\n",
    "    # Configurações para o texto a ser exibido\n",
    "    font = cv2.FONT_HERSHEY_SIMPLEX\n",
    "    fontScale = 0.6\n",
    "    color = (0, 0, 255)\n",
    "    thickness = 1\n",
    "    i = 0\n",
    "\n",
    "    for c in contours:\n",
    "        # Verifica se o contorno tem pelo menos 5 pontos (necessário para ajustar uma elipse)\n",
    "        if len(c) >= 5:\n",
    "            # Ajusta uma elipse ao contorno\n",
    "            ellipse = cv2.fitEllipse(c)\n",
    "\n",
    "            # Desenha a elipse ajustada na imagem\n",
    "            cv2.ellipse(image_copy, ellipse, (255, 0, 0), 2)\n",
    "\n",
    "            # Cria o texto para exibir as características da elipse\n",
    "            center = (int(ellipse[0][0]), int(ellipse[0][1]))\n",
    "            axes = (int(ellipse[1][0]), int(ellipse[1][1]))\n",
    "            angle = int(ellipse[2])\n",
    "            texto = f\"Centro: {center} Eixos: {axes} Angulo: {angle}\"\n",
    "\n",
    "            # Desenha o texto na imagem\n",
    "            cv2.putText(image_copy, texto, (center[0] - 100, center[1] - 20), font, fontScale, color, thickness, cv2.LINE_AA)\n",
    "\n",
    "        # Incrementa o contador de contornos\n",
    "        i += 1\n",
    "\n",
    "    # Exibe a quantidade de contornos encontrados\n",
    "    print(\"Quantidade de objetos: \" + str(len(contours)))\n",
    "\n",
    "    # Exibe a imagem com as elipses desenhadas e os textos adicionados\n",
    "    cv2.imshow(\"Fitting Ellipses\", image_copy)\n",
    "    cv2.waitKey(0)\n",
    "    cv2.destroyAllWindows()\n"
   ],
   "metadata": {
    "collapsed": false,
    "ExecuteTime": {
     "end_time": "2024-07-19T20:09:07.185288491Z",
     "start_time": "2024-07-19T20:09:06.561706707Z"
    }
   },
   "id": "da4fa16fa23fe6f6",
   "execution_count": 147
  },
  {
   "cell_type": "markdown",
   "source": [
    "__________\n",
    "\n",
    "## Ajuste de linha\n",
    "\n",
    "* #### A função `cv2.fitLine` ajusta uma linha aos pontos do contorno e retorna a equação da linha em forma de vetor.\n",
    "* #### Usamos `cv2.fitLine(c, cv2.DIST_L2, 0, 0.01, 0.01)` para ajustar uma linha aos pontos do contorno c. A função retorna o vetor da linha [vx, vy] e o ponto de origem (x, y).\n",
    "* #### Calculamos os pontos finais da linha para garantir que ela cubra toda a imagem. O ponto inicial é calculado usando o vetor vx e vy deslocado para fora da imagem e o ponto final é calculado deslocando-se dentro da imagem.\n",
    "* #### Usamos `cv2.line(image_copy, start_point, end_point, (255, 0, 0), 2)` para desenhar a linha ajustada em azul ((255, 0, 0)).\n",
    "* #### O texto inclui o vetor da linha e o ponto de origem, e é desenhado na imagem próximo ao topo.\n",
    "* #### Verificamos se o contorno tem pelo menos 2 pontos com len(c) >= 2, \n",
    "__________"
   ],
   "metadata": {
    "collapsed": false
   },
   "id": "ec915da277481258"
  },
  {
   "cell_type": "code",
   "outputs": [
    {
     "name": "stdout",
     "output_type": "stream",
     "text": [
      "Quantidade de objetos: 10\n"
     ]
    }
   ],
   "source": [
    "\n",
    "\n",
    "# Encontrar contornos com o modo cv2.RETR_EXTERNAL\n",
    "contours, _ = cv2.findContours(image=thresh, mode=cv2.RETR_EXTERNAL, method=cv2.CHAIN_APPROX_SIMPLE)\n",
    "\n",
    "# Verifica se foram encontrados contornos\n",
    "if len(contours) == 0:\n",
    "    print(\"Nenhum contorno foi encontrado.\")\n",
    "else:\n",
    "    # Cria uma cópia da imagem original para desenhar as linhas\n",
    "    image_copy = image.copy()\n",
    "\n",
    "    # Configurações para o texto a ser exibido\n",
    "    font = cv2.FONT_HERSHEY_SIMPLEX\n",
    "    fontScale = 0.6\n",
    "    color = (0, 0, 255)\n",
    "    thickness = 1\n",
    "    i = 0\n",
    "\n",
    "    for c in contours:\n",
    "        # Verifica se o contorno tem pelo menos 2 pontos (necessário para ajustar uma linha)\n",
    "        if len(c) >= 2:\n",
    "            # Ajusta uma linha aos pontos do contorno\n",
    "            [vx, vy, x, y] = cv2.fitLine(c, cv2.DIST_L2, 0, 0.01, 0.01)\n",
    "\n",
    "            # Converte os vetores para float e extrai os valores escalares\n",
    "            vx, vy, x, y = vx[0], vy[0], x[0], y[0]\n",
    "\n",
    "            # Calcula os pontos finais da linha para desenhar\n",
    "            rows, cols = image_copy.shape[:2]\n",
    "            start_point = (int(x - vx * 1000), int(y - vy * 1000))\n",
    "            end_point = (int(x + vx * (rows + 1000)), int(y + vy * (cols + 1000)))\n",
    "\n",
    "            # Desenha a linha ajustada na imagem\n",
    "            cv2.line(image_copy, start_point, end_point, (255, 0, 0), 2)\n",
    "\n",
    "            # Cria o texto para exibir a equação da linha\n",
    "            texto = f\"Line: [{vx:.2f}, {vy:.2f}] Origin: ({x:.2f}, {y:.2f})\"\n",
    "\n",
    "            # Desenha o texto na imagem\n",
    "            cv2.putText(image_copy, texto, (10, 30 + i * 20), font, fontScale, color, thickness, cv2.LINE_AA)\n",
    "\n",
    "        # Incrementa o contador de contornos\n",
    "        i += 1\n",
    "\n",
    "    # Exibe a quantidade de contornos encontrados\n",
    "    print(\"Quantidade de objetos: \" + str(len(contours)))\n",
    "\n",
    "    # Exibe a imagem com as linhas ajustadas e os textos adicionados\n",
    "    cv2.imshow(\"Fitting Lines\", image_copy)\n",
    "    cv2.waitKey(0)\n",
    "    cv2.destroyAllWindows()\n"
   ],
   "metadata": {
    "collapsed": false,
    "ExecuteTime": {
     "end_time": "2024-07-19T20:09:07.889129872Z",
     "start_time": "2024-07-19T20:09:07.186853291Z"
    }
   },
   "id": "4bf040dff8b7ad50",
   "execution_count": 148
  },
  {
   "cell_type": "markdown",
   "source": [
    "_________\n",
    "\n",
    "## Aspect ratio\n",
    "\n",
    "* #### O aspect ratio (razão de aspecto) de um contorno é a razão entre a largura e a altura do retângulo delimitador do contorno. Ele pode ser útil para entender a forma dos objetos detectados na imagem.\n",
    "* #### A razão de aspecto é calculada como float(w) / float(h), onde w é a largura e h é a altura do retângulo delimitador obtido com `cv2.boundingRect`.\n",
    "* #### Usamos cv2.rectangle para desenhar o retângulo delimitador ao redor do contorno na imagem.\n",
    "* #### O texto que exibe a razão de aspecto é desenhado próximo ao topo do retângulo delimitador.\n",
    "* #### Verificamos se h é diferente de zero antes de calcular a razão de aspecto para evitar divisão por zero.\n",
    "_________"
   ],
   "metadata": {
    "collapsed": false
   },
   "id": "9e2ced8fd10bbf2a"
  },
  {
   "cell_type": "code",
   "outputs": [
    {
     "name": "stdout",
     "output_type": "stream",
     "text": [
      "Quantidade de objetos: 10\n"
     ]
    }
   ],
   "source": [
    "# Encontrar contornos com o modo cv2.RETR_EXTERNAL\n",
    "contours, _ = cv2.findContours(image=thresh, mode=cv2.RETR_EXTERNAL, method=cv2.CHAIN_APPROX_SIMPLE)\n",
    "\n",
    "# Verifica se foram encontrados contornos\n",
    "if len(contours) == 0:\n",
    "    print(\"Nenhum contorno foi encontrado.\")\n",
    "else:\n",
    "    # Cria uma cópia da imagem original para desenhar os retângulos e textos\n",
    "    image_copy = image.copy()\n",
    "\n",
    "    # Configurações para o texto a ser exibido\n",
    "    font = cv2.FONT_HERSHEY_SIMPLEX\n",
    "    fontScale = 0.6\n",
    "    color = (0, 0, 255)\n",
    "    thickness = 1\n",
    "    i = 0\n",
    "\n",
    "    for c in contours:\n",
    "        # Obtém o retângulo delimitador para o contorno\n",
    "        x, y, w, h = cv2.boundingRect(c)\n",
    "\n",
    "        # Calcula a razão de aspecto\n",
    "        aspect_ratio = float(w) / float(h) if h != 0 else 0\n",
    "\n",
    "        # Desenha o retângulo delimitador na imagem\n",
    "        cv2.rectangle(image_copy, (x, y), (x + w, y + h), (0, 255, 0), 2)\n",
    "\n",
    "        # Cria o texto para exibir a razão de aspecto\n",
    "        texto = f\"Aspect Ratio: {aspect_ratio:.2f}\"\n",
    "\n",
    "        # Desenha o texto na imagem\n",
    "        cv2.putText(image_copy, texto, (x, y - 10), font, fontScale, color, thickness, cv2.LINE_AA)\n",
    "\n",
    "        # Incrementa o contador de contornos\n",
    "        i += 1\n",
    "\n",
    "    # Exibe a quantidade de contornos encontrados\n",
    "    print(\"Quantidade de objetos: \" + str(len(contours)))\n",
    "\n",
    "    # Exibe a imagem com os retângulos delimitadores e os textos adicionados\n",
    "    cv2.imshow(\"Aspect Ratio\", image_copy)\n",
    "    cv2.waitKey(0)\n",
    "    cv2.destroyAllWindows()\n"
   ],
   "metadata": {
    "collapsed": false,
    "ExecuteTime": {
     "end_time": "2024-07-19T20:09:08.567832271Z",
     "start_time": "2024-07-19T20:09:07.904990171Z"
    }
   },
   "id": "d7a7d953d448d31a",
   "execution_count": 149
  },
  {
   "cell_type": "markdown",
   "source": [
    "__________\n",
    "\n",
    "## Extent\n",
    "\n",
    "* #### O extent (extensão) de um contorno é a razão entre a área do contorno e a área do retângulo delimitador (bounding box) ao redor do contorno. Ele é útil para determinar quão \"compacto\" ou \"espalhado\" é um contorno em relação ao seu retângulo delimitador.\n",
    "* #### A área do contorno é obtida com `cv2.contourArea(c)`. A área do retângulo delimitador é calculada como w * h, onde w é a largura e h é a altura do retângulo. O extent é então calculado como contour_area / bounding_box_area.\n",
    "* #### Usamos `cv2.rectangle` para desenhar o retângulo delimitador ao redor do contorno na imagem.\n",
    "* #### O texto que exibe o extent é desenhado próximo ao topo do retângulo delimitador.\n",
    "* #### Verificamos se a área do retângulo delimitador é diferente de zero antes de calcular o extent para evitar divisão por zero.\n",
    "_________"
   ],
   "metadata": {
    "collapsed": false
   },
   "id": "1c3bb813b7deef49"
  },
  {
   "cell_type": "code",
   "outputs": [
    {
     "name": "stdout",
     "output_type": "stream",
     "text": [
      "Quantidade de objetos: 10\n"
     ]
    }
   ],
   "source": [
    "# Encontrar contornos com o modo cv2.RETR_EXTERNAL\n",
    "contours, _ = cv2.findContours(image=thresh, mode=cv2.RETR_EXTERNAL, method=cv2.CHAIN_APPROX_SIMPLE)\n",
    "\n",
    "# Verifica se foram encontrados contornos\n",
    "if len(contours) == 0:\n",
    "    print(\"Nenhum contorno foi encontrado.\")\n",
    "else:\n",
    "    # Cria uma cópia da imagem original para desenhar os retângulos e textos\n",
    "    image_copy = image.copy()\n",
    "\n",
    "    # Configurações para o texto a ser exibido\n",
    "    font = cv2.FONT_HERSHEY_SIMPLEX\n",
    "    fontScale = 0.6\n",
    "    color = (0, 0, 255)\n",
    "    thickness = 1\n",
    "    i = 0\n",
    "\n",
    "    for c in contours:\n",
    "        # Obtém a área do contorno\n",
    "        contour_area = cv2.contourArea(c)\n",
    "\n",
    "        # Obtém o retângulo delimitador para o contorno\n",
    "        x, y, w, h = cv2.boundingRect(c)\n",
    "        bounding_box_area = w * h\n",
    "\n",
    "        # Calcula o extent\n",
    "        extent = contour_area / bounding_box_area if bounding_box_area != 0 else 0\n",
    "\n",
    "        # Desenha o retângulo delimitador na imagem\n",
    "        cv2.rectangle(image_copy, (x, y), (x + w, y + h), (0, 255, 0), 2)\n",
    "\n",
    "        # Cria o texto para exibir o extent\n",
    "        texto = f\"Extent: {extent:.2f}\"\n",
    "\n",
    "        # Desenha o texto na imagem\n",
    "        cv2.putText(image_copy, texto, (x, y - 10), font, fontScale, color, thickness, cv2.LINE_AA)\n",
    "\n",
    "        # Incrementa o contador de contornos\n",
    "        i += 1\n",
    "\n",
    "    # Exibe a quantidade de contornos encontrados\n",
    "    print(\"Quantidade de objetos: \" + str(len(contours)))\n",
    "\n",
    "    # Exibe a imagem com os retângulos delimitadores e os textos adicionados\n",
    "    cv2.imshow(\"Extent\", image_copy)\n",
    "    cv2.waitKey(0)\n",
    "    cv2.destroyAllWindows()"
   ],
   "metadata": {
    "collapsed": false,
    "ExecuteTime": {
     "end_time": "2024-07-19T20:09:09.113762863Z",
     "start_time": "2024-07-19T20:09:08.577017348Z"
    }
   },
   "id": "65a4b6bd0f6e9f86",
   "execution_count": 150
  },
  {
   "cell_type": "markdown",
   "source": [
    "________\n",
    "\n",
    "## Solidity\n",
    "\n",
    "* #### Solidity é uma métrica que indica a \"compactação\" de um contorno, comparando a área do contorno com a área do seu convex hull (caso o contorno não seja convexo). A fórmula para calcular a solidez é: área do contorno / área do convex hull\n",
    "* #### A solidez é útil para identificar contornos que são próximos de formas convexas. Valores próximos de 1 indicam que o contorno é mais próximo de uma forma convexa, enquanto valores menores indicam contornos mais \"esburacados\".\n",
    "* #### Usamos `cv2.convexHull(c)` para obter o convex hull do contorno c. Calculamos a área do convex hull com `cv2.contourArea(convex_hull)`.\n",
    "* #### A solidez é calculada como contour_area / convex_hull_area.\n",
    "* #### Usamos `cv2.drawContours` para desenhar tanto o contorno original quanto o convex hull na imagem. O convex hull é desenhado em azul ((255, 0, 0)) e o contorno original em verde ((0, 255, 0)).\n",
    "* #### O texto que exibe a solidez é desenhado próximo ao topo do retângulo delimitador do contorno.\n",
    "* #### Verificamos se a área do convex hull é diferente de zero antes de calcular a solidez para evitar divisão por zero.\n",
    "\n",
    "______________\n",
    "\n"
   ],
   "metadata": {
    "collapsed": false
   },
   "id": "889fcc22e206c44f"
  },
  {
   "cell_type": "code",
   "outputs": [
    {
     "name": "stdout",
     "output_type": "stream",
     "text": [
      "Quantidade de objetos: 10\n"
     ]
    }
   ],
   "source": [
    "# Encontrar contornos com o modo cv2.RETR_EXTERNAL\n",
    "contours, _ = cv2.findContours(image=thresh, mode=cv2.RETR_EXTERNAL, method=cv2.CHAIN_APPROX_SIMPLE)\n",
    "\n",
    "# Verifica se foram encontrados contornos\n",
    "if len(contours) == 0:\n",
    "    print(\"Nenhum contorno foi encontrado.\")\n",
    "else:\n",
    "    # Cria uma cópia da imagem original para desenhar os contornos e textos\n",
    "    image_copy = image.copy()\n",
    "\n",
    "    # Configurações para o texto a ser exibido\n",
    "    font = cv2.FONT_HERSHEY_SIMPLEX\n",
    "    fontScale = 0.6\n",
    "    color = (0, 0, 255)\n",
    "    thickness = 1\n",
    "    i = 0\n",
    "\n",
    "    for c in contours:\n",
    "        # Obtém a área do contorno\n",
    "        contour_area = cv2.contourArea(c)\n",
    "\n",
    "        # Obtém o convex hull do contorno\n",
    "        convex_hull = cv2.convexHull(c)\n",
    "        convex_hull_area = cv2.contourArea(convex_hull)\n",
    "\n",
    "        # Calcula a solidez\n",
    "        solidity = contour_area / convex_hull_area if convex_hull_area != 0 else 0\n",
    "\n",
    "        # Desenha o convex hull na imagem\n",
    "        cv2.drawContours(image_copy, [convex_hull], 0, (255, 0, 0), 2)\n",
    "\n",
    "        # Desenha o contorno original na imagem\n",
    "        cv2.drawContours(image_copy, [c], 0, (0, 255, 0), 2)\n",
    "\n",
    "        # Cria o texto para exibir a solidez\n",
    "        texto = f\"Solidity: {solidity:.2f}\"\n",
    "\n",
    "        # Desenha o texto na imagem\n",
    "        x, y, w, h = cv2.boundingRect(c)\n",
    "        cv2.putText(image_copy, texto, (x, y - 10), font, fontScale, color, thickness, cv2.LINE_AA)\n",
    "\n",
    "        # Incrementa o contador de contornos\n",
    "        i += 1\n",
    "\n",
    "    # Exibe a quantidade de contornos encontrados\n",
    "    print(\"Quantidade de objetos: \" + str(len(contours)))\n",
    "\n",
    "    # Exibe a imagem com os contornos e convex hulls desenhados, além dos textos adicionados\n",
    "    cv2.imshow(\"Solidity\", image_copy)\n",
    "    cv2.waitKey(0)\n",
    "    cv2.destroyAllWindows()"
   ],
   "metadata": {
    "collapsed": false,
    "ExecuteTime": {
     "end_time": "2024-07-19T20:09:10.386663949Z",
     "start_time": "2024-07-19T20:09:09.123403974Z"
    }
   },
   "id": "73a8786ea8388d16",
   "execution_count": 151
  },
  {
   "cell_type": "markdown",
   "source": [
    "\n",
    "__________\n",
    "## Diâmetro equivalente\n",
    "\n",
    "* #### O diâmetro equivalente de um contorno é o diâmetro de um círculo que tem a mesma área que o contorno. Em outras palavras, é o diâmetro de um círculo que teria a mesma área que o contorno em questão. Esse valor é útil para entender o tamanho geral de um contorno e pode ajudar na análise de formas e tamanhos dos objetos detectados.\n",
    "* #### Fórmula: 2 x (raiz_quadrada (área do contorno / pi))\n",
    "* #### A área do contorno é obtida com `cv2.contourArea(c)`. O diâmetro equivalente é calculado como 2 * np.sqrt(contour_area / np.pi).\n",
    "* #### Usamos `cv2.drawContours` para desenhar o contorno na imagem.\n",
    "* #### O texto que exibe o diâmetro equivalente é desenhado próximo ao topo do retângulo delimitador do contorno.\n",
    "* #### Verificamos se a área do contorno é maior que zero antes de calcular o diâmetro equivalente para evitar cálculos inválidos.\n",
    "__________"
   ],
   "metadata": {
    "collapsed": false
   },
   "id": "6eb35d84bfc80d6e"
  },
  {
   "cell_type": "code",
   "outputs": [
    {
     "name": "stdout",
     "output_type": "stream",
     "text": [
      "Quantidade de objetos: 10\n"
     ]
    }
   ],
   "source": [
    "# Encontrar contornos com o modo cv2.RETR_EXTERNAL\n",
    "contours, _ = cv2.findContours(image=thresh, mode=cv2.RETR_EXTERNAL, method=cv2.CHAIN_APPROX_SIMPLE)\n",
    "\n",
    "# Verifica se foram encontrados contornos\n",
    "if len(contours) == 0:\n",
    "    print(\"Nenhum contorno foi encontrado.\")\n",
    "else:\n",
    "    # Cria uma cópia da imagem original para desenhar os contornos e textos\n",
    "    image_copy = image.copy()\n",
    "\n",
    "    # Configurações para o texto a ser exibido\n",
    "    font = cv2.FONT_HERSHEY_SIMPLEX\n",
    "    fontScale = 0.6\n",
    "    color = (0, 0, 255)\n",
    "    thickness = 1\n",
    "    i = 0\n",
    "\n",
    "    for c in contours:\n",
    "        # Obtém a área do contorno\n",
    "        contour_area = cv2.contourArea(c)\n",
    "\n",
    "        # Calcula o diâmetro equivalente\n",
    "        if contour_area > 0:\n",
    "            equivalent_diameter = 2 * np.sqrt(contour_area / np.pi)\n",
    "        else:\n",
    "            equivalent_diameter = 0\n",
    "\n",
    "        # Desenha o contorno na imagem\n",
    "        cv2.drawContours(image_copy, [c], 0, (0, 255, 0), 2)\n",
    "\n",
    "        # Cria o texto para exibir o diâmetro equivalente\n",
    "        texto = f\"Diametro Equivalente: {equivalent_diameter:.2f}\"\n",
    "\n",
    "        # Desenha o texto na imagem\n",
    "        x, y, w, h = cv2.boundingRect(c)\n",
    "        cv2.putText(image_copy, texto, (x, y - 10), font, fontScale, color, thickness, cv2.LINE_AA)\n",
    "\n",
    "        # Incrementa o contador de contornos\n",
    "        i += 1\n",
    "\n",
    "    # Exibe a quantidade de contornos encontrados\n",
    "    print(\"Quantidade de objetos: \" + str(len(contours)))\n",
    "\n",
    "    # Exibe a imagem com os contornos desenhados e os textos adicionados\n",
    "    cv2.imshow(\"Diametro Equivalente\", image_copy)\n",
    "    cv2.waitKey(0)\n",
    "    cv2.destroyAllWindows()\n"
   ],
   "metadata": {
    "collapsed": false,
    "ExecuteTime": {
     "end_time": "2024-07-19T20:09:10.940904592Z",
     "start_time": "2024-07-19T20:09:10.397445612Z"
    }
   },
   "id": "ae8133db070eb730",
   "execution_count": 152
  },
  {
   "cell_type": "markdown",
   "source": [
    "___________\n",
    "\n",
    "## Orientação\n",
    "\n",
    "* #### A orientação de um contorno refere-se ao ângulo de rotação da elipse que melhor se ajusta ao contorno. Esse ângulo é medido em relação ao eixo horizontal da imagem. A orientação é útil para determinar a direção principal de um objeto dentro da imagem.\n",
    "* #### A função `cv2.fitEllipse(c)` ajusta uma elipse ao contorno c. Ela retorna uma tupla contendo o centro da elipse, os eixos e o ângulo de rotação da elipse.\n",
    "* #### Usamos `cv2.ellipse` para desenhar a elipse ajustada na imagem.\n",
    "* #### O texto que exibe a orientação (ângulo de rotação da elipse) é desenhado próximo ao topo do retângulo delimitador do contorno.\n",
    "* #### O ajuste da elipse requer pelo menos 5 pontos no contorno. Se o contorno tiver menos de 5 pontos, a elipse não pode ser ajustada, então o código verifica isso antes de tentar ajustar a elipse.\n",
    "___________"
   ],
   "metadata": {
    "collapsed": false
   },
   "id": "3eba5d7afbf86502"
  },
  {
   "cell_type": "code",
   "outputs": [
    {
     "name": "stdout",
     "output_type": "stream",
     "text": [
      "Quantidade de objetos: 10\n"
     ]
    }
   ],
   "source": [
    "# Encontrar contornos com o modo cv2.RETR_EXTERNAL\n",
    "contours, _ = cv2.findContours(image=thresh, mode=cv2.RETR_EXTERNAL, method=cv2.CHAIN_APPROX_SIMPLE)\n",
    "\n",
    "# Verifica se foram encontrados contornos\n",
    "if len(contours) == 0:\n",
    "    print(\"Nenhum contorno foi encontrado.\")\n",
    "else:\n",
    "    # Cria uma cópia da imagem original para desenhar os contornos e textos\n",
    "    image_copy = image.copy()\n",
    "\n",
    "    # Configurações para o texto a ser exibido\n",
    "    font = cv2.FONT_HERSHEY_SIMPLEX\n",
    "    fontScale = 0.6\n",
    "    color = (0, 0, 255)\n",
    "    thickness = 1\n",
    "    i = 0\n",
    "\n",
    "    for c in contours:\n",
    "        # Aproximação do contorno por uma elipse\n",
    "        if len(c) >= 5:  # Número mínimo de pontos para ajustar uma elipse\n",
    "            # Ajusta a elipse ao contorno\n",
    "            ellipse = cv2.fitEllipse(c)\n",
    "            center, axes, angle = ellipse\n",
    "\n",
    "            # Desenha a elipse ajustada na imagem\n",
    "            cv2.ellipse(image_copy, ellipse, (255, 0, 0), 2)\n",
    "\n",
    "            # Cria o texto para exibir a orientação\n",
    "            texto = f\"Orientacao: {angle:.2f} graus\"\n",
    "\n",
    "            # Desenha o texto na imagem\n",
    "            x, y, w, h = cv2.boundingRect(c)\n",
    "            cv2.putText(image_copy, texto, (x, y - 10), font, fontScale, color, thickness, cv2.LINE_AA)\n",
    "\n",
    "        # Incrementa o contador de contornos\n",
    "        i += 1\n",
    "\n",
    "    # Exibe a quantidade de contornos encontrados\n",
    "    print(\"Quantidade de objetos: \" + str(len(contours)))\n",
    "\n",
    "    # Exibe a imagem com as elipses desenhadas e os textos adicionados\n",
    "    cv2.imshow(\"Orientacao\", image_copy)\n",
    "    cv2.waitKey(0)\n",
    "    cv2.destroyAllWindows()"
   ],
   "metadata": {
    "collapsed": false,
    "ExecuteTime": {
     "end_time": "2024-07-19T20:09:11.514020511Z",
     "start_time": "2024-07-19T20:09:10.946411550Z"
    }
   },
   "id": "fe23729d09809e20",
   "execution_count": 153
  },
  {
   "cell_type": "markdown",
   "source": [
    "______________\n",
    "\n",
    "## Máscara e pontos de pixel\n",
    "\n",
    "* #### Máscara e pontos de píxel são técnicas úteis para trabalhar com contornos e regiões de interesse em imagens. \n",
    "* #### A máscara é uma imagem binária onde a região correspondente ao contorno é preenchida com 1 (ou 255) e o resto é 0.\n",
    "* #### Os pontos de pixel da máscara que pertencem ao contorno são extraídos para análise adicional.\n",
    "* #### `np.zeros_like(img_gray, dtype=np.uint8)` cria uma máscara preta (todos os valores são 0). `cv2.drawContours(mask, [c], -1, 255, thickness=cv2.FILLED)` desenha o contorno na máscara, preenchendo a região correspondente com 255.\n",
    "* #### `np.column_stack(np.where(mask > 0))` retorna as coordenadas dos pixels que são diferentes de zero na máscara (ou seja, pertencem ao contorno).\n",
    "* #### `cv2.circle` é usado para desenhar pontos na imagem original para visualização, onde cada ponto é um pixel pertencente ao contorno.\n",
    "* #### `cv2.imshow` exibe a máscara do contorno e a imagem com contornos e pontos de pixel desenhados.\n",
    "______________"
   ],
   "metadata": {
    "collapsed": false
   },
   "id": "34a15ae9ee45e52e"
  },
  {
   "cell_type": "code",
   "outputs": [
    {
     "name": "stdout",
     "output_type": "stream",
     "text": [
      "Pontos de Pixel para o Contorno 0:\n",
      "[[420 405]\n",
      " [420 406]\n",
      " [420 407]\n",
      " ...\n",
      " [534 365]\n",
      " [534 366]\n",
      " [534 367]]\n",
      "Pontos de Pixel para o Contorno 1:\n",
      "[[414 559]\n",
      " [414 560]\n",
      " [414 561]\n",
      " ...\n",
      " [491 585]\n",
      " [491 586]\n",
      " [491 587]]\n",
      "Pontos de Pixel para o Contorno 2:\n",
      "[[388  95]\n",
      " [388  96]\n",
      " [388  97]\n",
      " ...\n",
      " [470 150]\n",
      " [470 151]\n",
      " [470 152]]\n",
      "Pontos de Pixel para o Contorno 3:\n",
      "[[284 216]\n",
      " [284 217]\n",
      " [284 218]\n",
      " ...\n",
      " [355 260]\n",
      " [355 261]\n",
      " [355 262]]\n",
      "Pontos de Pixel para o Contorno 4:\n",
      "[[202 426]\n",
      " [202 427]\n",
      " [202 428]\n",
      " ...\n",
      " [395 400]\n",
      " [395 401]\n",
      " [395 402]]\n",
      "Pontos de Pixel para o Contorno 5:\n",
      "[[176 593]\n",
      " [176 594]\n",
      " [176 595]\n",
      " ...\n",
      " [365 593]\n",
      " [365 594]\n",
      " [365 595]]\n",
      "Pontos de Pixel para o Contorno 6:\n",
      "[[139 343]\n",
      " [139 344]\n",
      " [139 345]\n",
      " ...\n",
      " [215 324]\n",
      " [215 325]\n",
      " [215 326]]\n",
      "Pontos de Pixel para o Contorno 7:\n",
      "[[ 79 155]\n",
      " [ 79 156]\n",
      " [ 79 157]\n",
      " ...\n",
      " [238 130]\n",
      " [238 131]\n",
      " [238 132]]\n",
      "Pontos de Pixel para o Contorno 8:\n",
      "[[ 64 417]\n",
      " [ 64 418]\n",
      " [ 64 419]\n",
      " ...\n",
      " [154 440]\n",
      " [154 441]\n",
      " [154 442]]\n",
      "Pontos de Pixel para o Contorno 9:\n",
      "[[ 55 526]\n",
      " [ 55 527]\n",
      " [ 55 528]\n",
      " ...\n",
      " [104 598]\n",
      " [104 599]\n",
      " [104 600]]\n"
     ]
    }
   ],
   "source": [
    "# Encontrar contornos com o modo cv2.RETR_EXTERNAL\n",
    "contours, _ = cv2.findContours(image=thresh, mode=cv2.RETR_EXTERNAL, method=cv2.CHAIN_APPROX_SIMPLE)\n",
    "\n",
    "# Verifica se foram encontrados contornos\n",
    "if len(contours) == 0:\n",
    "    print(\"Nenhum contorno foi encontrado.\")\n",
    "else:\n",
    "    # Cria uma cópia da imagem original para desenhar os contornos\n",
    "    image_copy = image.copy()\n",
    "\n",
    "    # Para cada contorno encontrado\n",
    "    for i, c in enumerate(contours):\n",
    "        # Cria uma máscara do mesmo tamanho que a imagem original\n",
    "        mask = np.zeros_like(img_gray, dtype=np.uint8)\n",
    "\n",
    "        # Preenche a máscara com o contorno\n",
    "        cv2.drawContours(mask, [c], -1, 255, thickness=cv2.FILLED)\n",
    "\n",
    "        # Extrai os pontos de pixel pertencentes ao contorno\n",
    "        points = np.column_stack(np.where(mask > 0))\n",
    "\n",
    "        # Desenha o contorno na imagem original\n",
    "        cv2.drawContours(image_copy, [c], 0, (0, 255, 0), 2)\n",
    "\n",
    "        # Exibe a máscara\n",
    "        cv2.imshow(f\"Mascara do Contorno {i}\", mask)\n",
    "\n",
    "        # Exibe os pontos de pixel\n",
    "        print(f\"Pontos de Pixel para o Contorno {i}:\")\n",
    "        print(points)\n",
    "\n",
    "        for point in points:\n",
    "            cv2.circle(image_copy, (point[1], point[0]), 1, (255, 0, 0), -1)\n",
    "\n",
    "    # Exibe a imagem com os contornos desenhados\n",
    "    cv2.imshow(\"Contornos e Pontos de Pixel\", image_copy)\n",
    "    cv2.waitKey(0)\n",
    "    cv2.destroyAllWindows()"
   ],
   "metadata": {
    "collapsed": false,
    "ExecuteTime": {
     "end_time": "2024-07-19T20:09:12.423516370Z",
     "start_time": "2024-07-19T20:09:11.522350371Z"
    }
   },
   "id": "e67d554ff976c933",
   "execution_count": 154
  },
  {
   "cell_type": "markdown",
   "source": [
    "_________________\n",
    "\n",
    "## Valor máximo, mínimo e suas localizações\n",
    "\n",
    "* #### Para encontrar o valor máximo e mínimo dentro de uma máscara binária e suas localizações, você pode usar as seguintes etapas:\n",
    "* #### Criar a Máscara do Contorno: A máscara binária é uma imagem onde a região correspondente ao contorno é preenchida com 255 (ou 1) e o restante é 0.\n",
    "* #### Encontrar os Valores Máximo e Mínimo: `cv2.minMaxLoc` pode ser usado para encontrar o valor mínimo e máximo e suas localizações em uma matriz.\n",
    "* #### `np.zeros_like(img_gray, dtype=np.uint8)` cria uma máscara preta. `cv2.drawContours(mask, [c], -1, 255, thickness=cv2.FILLED)` desenha o contorno na máscara.\n",
    "* #### `cv2.minMaxLoc(mask)` retorna o valor mínimo e máximo na máscara e suas localizações.\n",
    "* #### `cv2.circle` é usado para desenhar círculos vermelhos e verdes nas localizações dos valores máximos e mínimos, respectivamente.\n",
    "* #### `cv2.imshow` exibe a imagem com os contornos e os pontos máximos e mínimos destacados.\n",
    "______________\n",
    "\n",
    "##  Média da cor e a média da intensidade\n",
    "\n",
    "* #### Use a máscara binária para isolar a região de interesse.\n",
    "* #### Para imagens em escala de cinza, a média da intensidade é a média dos valores dos pixels na região da máscara.\n",
    "* #### Para imagens coloridas, calcule a média dos valores de cor (BGR) para os pixels dentro da máscara. \n",
    "* #### `np.zeros_like(img_gray, dtype=np.uint8)` cria uma máscara preta. `cv2.drawContours(mask, [c], -1, 255, thickness=cv2.FILLED)` desenha o contorno na máscara, preenchendo a região correspondente com 255.\n",
    "* #### `cv2.mean(img_gray, mask=mask)[0]` calcula a média dos valores dos pixels na imagem em escala de cinza dentro da máscara.\n",
    "* #### `cv2.mean(image, mask=mask)[:3]` calcula a média dos valores dos canais B, G e R (coloridos) dentro da máscara. O [:3] remove o valor do canal alfa, se presente.\n",
    "* #### `cv2.drawContours` desenha os contornos na imagem original. `cv2.putText` adiciona texto à imagem com a média da intensidade e cor.\n",
    "* #### `cv2.imshow` exibe a imagem com contornos e informações adicionais.\n",
    "\n",
    "______________\n"
   ],
   "metadata": {
    "collapsed": false
   },
   "id": "837e5e12833b526a"
  },
  {
   "cell_type": "code",
   "outputs": [
    {
     "name": "stdout",
     "output_type": "stream",
     "text": [
      "Contorno 0:\n",
      "  Média da Intensidade: 255.00\n",
      "  Média da Cor (BGR): (255, 255, 255)\n",
      "  Valor Mínimo: 0.00 na localização (0, 0)\n",
      "  Valor Máximo: 255.00 na localização (405, 420)\n",
      "Contorno 1:\n",
      "  Média da Intensidade: 255.00\n",
      "  Média da Cor (BGR): (255, 255, 255)\n",
      "  Valor Mínimo: 0.00 na localização (0, 0)\n",
      "  Valor Máximo: 255.00 na localização (559, 414)\n",
      "Contorno 2:\n",
      "  Média da Intensidade: 255.00\n",
      "  Média da Cor (BGR): (255, 255, 255)\n",
      "  Valor Mínimo: 0.00 na localização (0, 0)\n",
      "  Valor Máximo: 255.00 na localização (95, 388)\n",
      "Contorno 3:\n",
      "  Média da Intensidade: 254.96\n",
      "  Média da Cor (BGR): (254, 254, 254)\n",
      "  Valor Mínimo: 0.00 na localização (0, 0)\n",
      "  Valor Máximo: 255.00 na localização (216, 284)\n",
      "Contorno 4:\n",
      "  Média da Intensidade: 255.00\n",
      "  Média da Cor (BGR): (255, 255, 255)\n",
      "  Valor Mínimo: 0.00 na localização (0, 0)\n",
      "  Valor Máximo: 255.00 na localização (426, 202)\n",
      "Contorno 5:\n",
      "  Média da Intensidade: 255.00\n",
      "  Média da Cor (BGR): (255, 255, 255)\n",
      "  Valor Mínimo: 0.00 na localização (0, 0)\n",
      "  Valor Máximo: 255.00 na localização (593, 176)\n",
      "Contorno 6:\n",
      "  Média da Intensidade: 255.00\n",
      "  Média da Cor (BGR): (255, 255, 255)\n",
      "  Valor Mínimo: 0.00 na localização (0, 0)\n",
      "  Valor Máximo: 255.00 na localização (343, 139)\n",
      "Contorno 7:\n",
      "  Média da Intensidade: 255.00\n",
      "  Média da Cor (BGR): (255, 255, 255)\n",
      "  Valor Mínimo: 0.00 na localização (0, 0)\n",
      "  Valor Máximo: 255.00 na localização (155, 79)\n",
      "Contorno 8:\n",
      "  Média da Intensidade: 255.00\n",
      "  Média da Cor (BGR): (255, 255, 255)\n",
      "  Valor Mínimo: 0.00 na localização (0, 0)\n",
      "  Valor Máximo: 255.00 na localização (417, 64)\n",
      "Contorno 9:\n",
      "  Média da Intensidade: 255.00\n",
      "  Média da Cor (BGR): (255, 255, 255)\n",
      "  Valor Mínimo: 0.00 na localização (0, 0)\n",
      "  Valor Máximo: 255.00 na localização (526, 55)\n"
     ]
    }
   ],
   "source": [
    "# Encontrar contornos com o modo cv2.RETR_EXTERNAL\n",
    "contours, _ = cv2.findContours(image=thresh, mode=cv2.RETR_EXTERNAL, method=cv2.CHAIN_APPROX_SIMPLE)\n",
    "\n",
    "# Verifica se foram encontrados contornos\n",
    "if len(contours) == 0:\n",
    "    print(\"Nenhum contorno foi encontrado.\")\n",
    "else:\n",
    "    # Cria uma cópia da imagem original para desenhar os contornos\n",
    "    image_copy = image.copy()\n",
    "\n",
    "    for i, c in enumerate(contours):\n",
    "        # Cria uma máscara do mesmo tamanho que a imagem original\n",
    "        mask = np.zeros_like(img_gray, dtype=np.uint8)\n",
    "\n",
    "        # Preenche a máscara com o contorno\n",
    "        cv2.drawContours(mask, [c], -1, 255, thickness=cv2.FILLED)\n",
    "\n",
    "        # Calcula a média da intensidade para a imagem em escala de cinza\n",
    "        mean_intensity = cv2.mean(img_gray, mask=mask)[0]\n",
    "\n",
    "        # Calcula a média da cor para a imagem colorida\n",
    "        mean_color = cv2.mean(image, mask=mask)[:3]  # Desconsidera o canal alfa se houver\n",
    "\n",
    "        # Encontra os valores máximo e mínimo e suas localizações\n",
    "        min_val, max_val, min_loc, max_loc = cv2.minMaxLoc(mask)\n",
    "\n",
    "        # Desenha o contorno na imagem original\n",
    "        cv2.drawContours(image_copy, [c], 0, (0, 255, 0), 2)\n",
    "\n",
    "        # Marca os pontos máximo e mínimo na máscara\n",
    "        cv2.circle(image_copy, max_loc, 5, (0, 0, 255), -1)  # Vermelho para valor máximo\n",
    "        cv2.circle(image_copy, min_loc, 5, (255, 0, 0), -1)  # Azul para valor mínimo\n",
    "\n",
    "        # Adiciona texto para exibir média e valores\n",
    "        font = cv2.FONT_HERSHEY_SIMPLEX\n",
    "        fontScale = 0.6\n",
    "        color = (0, 0, 255)\n",
    "        thickness = 1\n",
    "        x, y, w, h = cv2.boundingRect(c)\n",
    "        \n",
    "\n",
    "        # Exibe os valores calculados\n",
    "        print(f\"Contorno {i}:\")\n",
    "        print(f\"  Média da Intensidade: {mean_intensity:.2f}\")\n",
    "        print(f\"  Média da Cor (BGR): {tuple(map(int, mean_color))}\")\n",
    "        print(f\"  Valor Mínimo: {min_val:.2f} na localização {min_loc}\")\n",
    "        print(f\"  Valor Máximo: {max_val:.2f} na localização {max_loc}\")\n",
    "\n",
    "    # Exibe a imagem com os contornos e os textos adicionados\n",
    "    cv2.imshow(\"Mascara com Media e Min/Max Valores\", image_copy)\n",
    "    cv2.waitKey(0)\n",
    "    cv2.destroyAllWindows()\n"
   ],
   "metadata": {
    "collapsed": false,
    "ExecuteTime": {
     "end_time": "2024-07-19T20:09:13.864977410Z",
     "start_time": "2024-07-19T20:09:12.430123192Z"
    }
   },
   "id": "75c9fb9c865903e4",
   "execution_count": 155
  },
  {
   "cell_type": "markdown",
   "source": [
    "______________\n",
    "## Pontos extremos\n",
    "\n",
    "* #### Use a função `cv2.boundingRect` para obter o retângulo delimitador, mas para pontos mais precisos, use diretamente os pontos do contorno.\n",
    "* #### Marque esses pontos na imagem para visualização.\n",
    "* #### `np.zeros_like(img_gray, dtype=np.uint8)` cria uma máscara preta. `cv2.drawContours(mask, [c], -1, 255, thickness=cv2.FILLED)` desenha o contorno na máscara, preenchendo a região correspondente com 255.\n",
    "* #### `leftmost = tuple(c[c[:, :, 0].argmin()][0])` encontra o ponto mais à esquerda.\n",
    "* #### `rightmost = tuple(c[c[:, :, 0].argmax()][0])` encontra o ponto mais à direita.\n",
    "* #### `topmost = tuple(c[c[:, :, 1].argmin()][0])` encontra o ponto mais alto.\n",
    "* #### `bottommost = tuple(c[c[:, :, 1].argmax()][0])` encontra o ponto mais baixo.\n",
    "* #### `cv2.circle` é usado para marcar os pontos extremos com diferentes cores.\n",
    "* #### `cv2.putText` adiciona texto à imagem com os pontos extremos. `cv2.imshow` exibe a imagem com os contornos e pontos extremos.\n",
    "______________\n",
    "\n"
   ],
   "metadata": {
    "collapsed": false
   },
   "id": "5a62bd6aadb43b7c"
  },
  {
   "cell_type": "code",
   "outputs": [
    {
     "name": "stdout",
     "output_type": "stream",
     "text": [
      "Contorno 0:\n",
      "  Ponto mais à esquerda: (242, 488)\n",
      "  Ponto mais à direita: (427, 442)\n",
      "  Ponto mais alto: (405, 420)\n",
      "  Ponto mais baixo: (345, 534)\n",
      "Contorno 1:\n",
      "  Ponto mais à esquerda: (498, 429)\n",
      "  Ponto mais à direita: (620, 440)\n",
      "  Ponto mais alto: (559, 414)\n",
      "  Ponto mais baixo: (523, 491)\n",
      "Contorno 2:\n",
      "  Ponto mais à esquerda: (88, 391)\n",
      "  Ponto mais à direita: (269, 429)\n",
      "  Ponto mais alto: (95, 388)\n",
      "  Ponto mais baixo: (137, 470)\n",
      "Contorno 3:\n",
      "  Ponto mais à esquerda: (132, 326)\n",
      "  Ponto mais à direita: (262, 355)\n",
      "  Ponto mais alto: (216, 284)\n",
      "  Ponto mais baixo: (255, 355)\n",
      "Contorno 4:\n",
      "  Ponto mais à esquerda: (353, 287)\n",
      "  Ponto mais à direita: (445, 253)\n",
      "  Ponto mais alto: (426, 202)\n",
      "  Ponto mais baixo: (392, 395)\n",
      "Contorno 5:\n",
      "  Ponto mais à esquerda: (515, 287)\n",
      "  Ponto mais à direita: (598, 354)\n",
      "  Ponto mais alto: (593, 176)\n",
      "  Ponto mais baixo: (583, 365)\n",
      "Contorno 6:\n",
      "  Ponto mais à esquerda: (280, 154)\n",
      "  Ponto mais à direita: (371, 209)\n",
      "  Ponto mais alto: (343, 139)\n",
      "  Ponto mais baixo: (281, 215)\n",
      "Contorno 7:\n",
      "  Ponto mais à esquerda: (55, 174)\n",
      "  Ponto mais à direita: (226, 105)\n",
      "  Ponto mais alto: (155, 79)\n",
      "  Ponto mais baixo: (110, 238)\n",
      "Contorno 8:\n",
      "  Ponto mais à esquerda: (382, 91)\n",
      "  Ponto mais à direita: (462, 125)\n",
      "  Ponto mais alto: (417, 64)\n",
      "  Ponto mais baixo: (433, 154)\n",
      "Contorno 9:\n",
      "  Ponto mais à esquerda: (508, 66)\n",
      "  Ponto mais à direita: (637, 89)\n",
      "  Ponto mais alto: (526, 55)\n",
      "  Ponto mais baixo: (576, 104)\n"
     ]
    }
   ],
   "source": [
    "# Encontrar contornos com o modo cv2.RETR_EXTERNAL\n",
    "contours, _ = cv2.findContours(image=thresh, mode=cv2.RETR_EXTERNAL, method=cv2.CHAIN_APPROX_SIMPLE)\n",
    "\n",
    "# Verifica se foram encontrados contornos\n",
    "if len(contours) == 0:\n",
    "    print(\"Nenhum contorno foi encontrado.\")\n",
    "else:\n",
    "    # Cria uma cópia da imagem original para desenhar os contornos\n",
    "    image_copy = image.copy()\n",
    "\n",
    "    for i, c in enumerate(contours):\n",
    "        # Cria uma máscara do mesmo tamanho que a imagem original\n",
    "        mask = np.zeros_like(img_gray, dtype=np.uint8)\n",
    "\n",
    "        # Preenche a máscara com o contorno\n",
    "        cv2.drawContours(mask, [c], -1, 255, thickness=cv2.FILLED)\n",
    "\n",
    "        # Encontrar os pontos extremos\n",
    "        leftmost = tuple(c[c[:, :, 0].argmin()][0])\n",
    "        rightmost = tuple(c[c[:, :, 0].argmax()][0])\n",
    "        topmost = tuple(c[c[:, :, 1].argmin()][0])\n",
    "        bottommost = tuple(c[c[:, :, 1].argmax()][0])\n",
    "\n",
    "        # Desenha o contorno na imagem original\n",
    "        cv2.drawContours(image_copy, [c], 0, (0, 255, 0), 2)\n",
    "\n",
    "        # Marca os pontos extremos na imagem\n",
    "        cv2.circle(image_copy, leftmost, 5, (255, 0, 0), -1)  # Azul para o ponto mais à esquerda\n",
    "        cv2.circle(image_copy, rightmost, 5, (0, 255, 0), -1)  # Verde para o ponto mais à direita\n",
    "        cv2.circle(image_copy, topmost, 5, (0, 0, 255), -1)    # Vermelho para o ponto mais alto\n",
    "        cv2.circle(image_copy, bottommost, 5, (0, 255, 255), -1)  # Amarelo para o ponto mais baixo\n",
    "\n",
    "        # Adiciona texto para exibir os pontos extremos\n",
    "        font = cv2.FONT_HERSHEY_SIMPLEX\n",
    "        fontScale = 0.3\n",
    "        color = (0, 0, 255)\n",
    "        thickness = 1\n",
    "\n",
    "        # Ajusta a posição do texto para não sobrepor os contornos\n",
    "        text_offset = 20\n",
    "        text_positions = [\n",
    "            (leftmost[0] + 10, leftmost[1] - text_offset),\n",
    "            (rightmost[0] + 10, rightmost[1] - text_offset),\n",
    "            (topmost[0] + 10, topmost[1] - text_offset),\n",
    "            (bottommost[0] + 10, bottommost[1] + text_offset)\n",
    "        ]\n",
    "        text_labels = [\n",
    "            f\"L: {leftmost}\",\n",
    "            f\"R: {rightmost}\",\n",
    "            f\"T: {topmost}\",\n",
    "            f\"B: {bottommost}\"\n",
    "        ]\n",
    "\n",
    "        for pos, label in zip(text_positions, text_labels):\n",
    "            cv2.putText(image_copy, label, pos, font, fontScale, color, thickness, cv2.LINE_AA)\n",
    "\n",
    "        # Exibe os valores calculados\n",
    "        print(f\"Contorno {i}:\")\n",
    "        print(f\"  Ponto mais à esquerda: {leftmost}\")\n",
    "        print(f\"  Ponto mais à direita: {rightmost}\")\n",
    "        print(f\"  Ponto mais alto: {topmost}\")\n",
    "        print(f\"  Ponto mais baixo: {bottommost}\")\n",
    "\n",
    "    # Exibe a imagem com os contornos e os pontos extremos marcados\n",
    "    cv2.imshow(\"Contornos com Pontos Extremos\", image_copy)\n",
    "    cv2.waitKey(0)\n",
    "    cv2.destroyAllWindows()\n"
   ],
   "metadata": {
    "collapsed": false,
    "ExecuteTime": {
     "end_time": "2024-07-19T20:09:15.432877324Z",
     "start_time": "2024-07-19T20:09:13.873170094Z"
    }
   },
   "id": "18306c97d8d50b26",
   "execution_count": 156
  },
  {
   "cell_type": "markdown",
   "source": [
    "______________\n",
    "\n",
    "## Extração de contornos nvia WebCam\n",
    "\n",
    "* #### O código usa a webcam para capturar vídeo em tempo real.\n",
    "* #### Para cada frame capturado: Desfoque: Aplica um desfoque Gaussian para reduzir o ruído e suavizar a imagem. Conversão de Cor: Converte a imagem de BGR (cor padrão do OpenCV) para HSV (espaço de cor mais adequado para filtragem de cores).\n",
    "* #### Máscara de Cor: Cria uma máscara que destaca apenas as áreas da imagem que estão dentro do intervalo de cor AZUL especificado.\n",
    "* #### Encontra os contornos nas áreas da máscara que são azuis.\n",
    "* #### Desenha os contornos encontrados sobre o frame original.\n",
    "* #### Mostra duas janelas: uma com o frame original e contornos desenhados, e outra com a máscara.\n",
    "______________\n"
   ],
   "metadata": {
    "collapsed": false
   },
   "id": "ccec9f6eb2d9ed75"
  },
  {
   "cell_type": "code",
   "outputs": [],
   "source": [
    "# Abre a captura de vídeo da webcam\n",
    "cap = cv2.VideoCapture(0)\n",
    "\n",
    "while True:\n",
    "    # Captura frame a frame\n",
    "    _, frame = cap.read()\n",
    "\n",
    "    # Aplica o desfoque para reduzir o ruído\n",
    "    blurred_frame = cv2.GaussianBlur(frame, (5, 5), 0)\n",
    "\n",
    "    # Converte o frame para o espaço de cor HSV\n",
    "    hsv = cv2.cvtColor(blurred_frame, cv2.COLOR_BGR2HSV)\n",
    "\n",
    "    # Define o intervalo para a cor azul\n",
    "    lower_blue = np.array([38, 86, 0])\n",
    "    upper_blue = np.array([121, 255, 255])\n",
    "\n",
    "    # Cria uma máscara com base no intervalo de cor azul\n",
    "    mask = cv2.inRange(hsv, lower_blue, upper_blue)\n",
    "\n",
    "    # Encontra os contornos na máscara\n",
    "    contours, _ = cv2.findContours(mask, cv2.RETR_TREE, cv2.CHAIN_APPROX_SIMPLE)\n",
    "\n",
    "    # Desenha os contornos no frame original\n",
    "    for contour in contours:\n",
    "        cv2.drawContours(frame, contour, -1, (0, 255, 0), 3)\n",
    "\n",
    "    # Exibe o frame com contornos e a máscara\n",
    "    cv2.imshow(\"Frame\", frame)\n",
    "    cv2.imshow(\"Mask\", mask)\n",
    "\n",
    "    # Encerra o loop ao pressionar a tecla ESC\n",
    "    key = cv2.waitKey(1)\n",
    "    if key == 27:\n",
    "        break\n",
    "\n",
    "# Libera a captura e fecha as janelas\n",
    "cap.release()\n",
    "cv2.destroyAllWindows()\n"
   ],
   "metadata": {
    "collapsed": false,
    "ExecuteTime": {
     "end_time": "2024-07-19T20:09:25.500671141Z",
     "start_time": "2024-07-19T20:09:15.441768913Z"
    }
   },
   "id": "7a5ef06f646e8da9",
   "execution_count": 157
  },
  {
   "cell_type": "markdown",
   "source": [
    "______________\n",
    "\n",
    "## Um pouco mais sobre métodos de aproximação\n",
    "\n",
    "* #### cv2.CHAIN_APPROX_NONE: armazena todos os pontos de contorno, sem realizar nenhuma simplificação. Pode resultar em uma grande quantidade de pontos de contorno, ocupando mais memória e aumentando o tempo de processamento.\n",
    "* #### cv2.CHAIN_APPROX_SIMPLE: realiza uma simplificação do contorno, eliminando os pontos redundantes e mantendo apenas os pontos extremos que definem a forma do contorno. \n",
    "* #### cv2.CHAIN_APPROX_TC89_L1 e cv2.CHAIN_APPROX_TC89_KCOS: Esses métodos são variantes do método Douglas-Peucker para aproximação de contorno. Eles usam o algoritmo de simplificação de contorno de Douglas-Peucker, que realiza uma simplificação adaptativa, mantendo apenas os pontos essenciais do contorno com base em uma tolerância definida. Esses métodos são mais precisos em manter a forma do contorno original em comparação com o cv2.CHAIN_APPROX_SIMPLE, mas também podem resultar em mais pontos de contorno.\n",
    "______________"
   ],
   "metadata": {
    "collapsed": false
   },
   "id": "a3a53580dfdc9c57"
  }
 ],
 "metadata": {
  "kernelspec": {
   "display_name": "Python 3",
   "language": "python",
   "name": "python3"
  },
  "language_info": {
   "codemirror_mode": {
    "name": "ipython",
    "version": 2
   },
   "file_extension": ".py",
   "mimetype": "text/x-python",
   "name": "python",
   "nbconvert_exporter": "python",
   "pygments_lexer": "ipython2",
   "version": "2.7.6"
  }
 },
 "nbformat": 4,
 "nbformat_minor": 5
}
