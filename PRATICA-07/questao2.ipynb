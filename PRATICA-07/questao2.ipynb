{
 "cells": [
  {
   "cell_type": "code",
   "execution_count": 196,
   "id": "initial_id",
   "metadata": {
    "collapsed": true,
    "ExecuteTime": {
     "end_time": "2024-07-26T23:25:34.803528999Z",
     "start_time": "2024-07-26T23:25:33.087186846Z"
    }
   },
   "outputs": [],
   "source": [
    "import cv2\n",
    "import numpy as np\n",
    "\n",
    "\n",
    "imagem = cv2.imread('img.png')\n",
    "imagem_gray = cv2.cvtColor(imagem, cv2.COLOR_BGR2GRAY)\n",
    "bordas = cv2.Canny(imagem_gray, 50, 150)\n",
    "\n",
    "# Bordas\n",
    "\n",
    "cv2.imshow('Bordas Detectadas', bordas)\n",
    "cv2.waitKey(0)\n",
    "cv2.destroyAllWindows()"
   ]
  },
  {
   "cell_type": "code",
   "outputs": [],
   "source": [
    "# Transformada\n",
    "linhas = cv2.HoughLinesP(bordas, 1, np.pi/180, threshold=100, minLineLength=100, maxLineGap=10)\n"
   ],
   "metadata": {
    "collapsed": false,
    "ExecuteTime": {
     "end_time": "2024-07-26T23:25:34.804090279Z",
     "start_time": "2024-07-26T23:25:34.803434471Z"
    }
   },
   "id": "649ddf2727636172",
   "execution_count": 197
  },
  {
   "cell_type": "code",
   "outputs": [],
   "source": [
    "# Função para verificar se uma linha está na região da rede\n",
    "def linha_na_rede(linha, largura_imagem, altura_imagem):\n",
    "    \n",
    "    x1, y1, x2, y2 = linha\n",
    "    \n",
    "    # Definir a área da rede\n",
    "    x_min_rede = largura_imagem // 20\n",
    "    x_max_rede = 3 * largura_imagem // 3\n",
    "    y_min_rede = altura_imagem // 4\n",
    "    y_max_rede = 2 * altura_imagem // 4\n",
    "    \n",
    "    # Checar se a linha está na região da rede\n",
    "    if (x_min_rede < x1 < x_max_rede or x_min_rede < x2 < x_max_rede) and \\\n",
    "            (y_min_rede < y1 < y_max_rede or y_min_rede < y2 < y_max_rede):\n",
    "        return True\n",
    "    return False"
   ],
   "metadata": {
    "collapsed": false,
    "ExecuteTime": {
     "end_time": "2024-07-26T23:25:34.804369259Z",
     "start_time": "2024-07-26T23:25:34.803553575Z"
    }
   },
   "id": "fa388249f0c",
   "execution_count": 198
  },
  {
   "cell_type": "code",
   "outputs": [],
   "source": [
    "imagem_linhas = np.copy(imagem)\n",
    "\n",
    "largura_imagem = imagem.shape[1]\n",
    "altura_imagem = imagem.shape[0]\n",
    "x_min_rede = largura_imagem // 20\n",
    "x_max_rede = 3 * largura_imagem // 3\n",
    "y_min_rede = altura_imagem // 4\n",
    "y_max_rede = 2 * altura_imagem // 4\n",
    "\n",
    "# Rtangulo representando a região da rede\n",
    "cv2.rectangle(imagem_linhas, (x_min_rede, y_min_rede), (x_max_rede, y_max_rede), (255, 0, 0), 2)\n",
    "\n",
    "if linhas is not None:\n",
    "    for linha in linhas:\n",
    "        x1, y1, x2, y2 = linha[0]\n",
    "        if not linha_na_rede((x1, y1, x2, y2), largura_imagem, altura_imagem):\n",
    "            cv2.line(imagem_linhas, (x1, y1), (x2, y2), (0, 255, 0), 2)\n",
    "\n",
    "cv2.imshow('Linhas da Quadra com Regio da Rede', imagem_linhas)\n",
    "cv2.waitKey(0)\n",
    "cv2.destroyAllWindows()"
   ],
   "metadata": {
    "collapsed": false,
    "ExecuteTime": {
     "end_time": "2024-07-26T23:25:35.283835322Z",
     "start_time": "2024-07-26T23:25:34.803605768Z"
    }
   },
   "id": "42d7b87665d3828a",
   "execution_count": 199
  },
  {
   "cell_type": "code",
   "outputs": [
    {
     "name": "stderr",
     "output_type": "stream",
     "text": [
      "/tmp/ipykernel_59574/28935191.py:19: DeprecationWarning: `np.int0` is a deprecated alias for `np.intp`.  (Deprecated NumPy 1.24)\n",
      "  cantos = np.int0(cantos)\n"
     ]
    }
   ],
   "source": [],
   "metadata": {
    "collapsed": false,
    "is_executing": true,
    "ExecuteTime": {
     "start_time": "2024-07-26T23:25:35.286610760Z"
    }
   },
   "id": "886428d28e50c55a",
   "execution_count": null
  },
  {
   "cell_type": "code",
   "outputs": [],
   "source": [],
   "metadata": {
    "collapsed": false,
    "is_executing": true
   },
   "id": "9b1d773cd291ba09",
   "execution_count": null
  }
 ],
 "metadata": {
  "kernelspec": {
   "display_name": "Python 3",
   "language": "python",
   "name": "python3"
  },
  "language_info": {
   "codemirror_mode": {
    "name": "ipython",
    "version": 2
   },
   "file_extension": ".py",
   "mimetype": "text/x-python",
   "name": "python",
   "nbconvert_exporter": "python",
   "pygments_lexer": "ipython2",
   "version": "2.7.6"
  }
 },
 "nbformat": 4,
 "nbformat_minor": 5
}
