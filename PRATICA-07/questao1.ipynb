{
 "cells": [
  {
   "cell_type": "code",
   "execution_count": 45,
   "id": "initial_id",
   "metadata": {
    "collapsed": true,
    "ExecuteTime": {
     "end_time": "2024-07-26T21:22:00.579533246Z",
     "start_time": "2024-07-26T21:22:00.536102683Z"
    }
   },
   "outputs": [],
   "source": [
    "import cv2\n",
    "import numpy as np\n",
    "import matplotlib.pyplot as plt"
   ]
  },
  {
   "cell_type": "code",
   "outputs": [
    {
     "name": "stdout",
     "output_type": "stream",
     "text": [
      "Numero de botoes detectados:  7\n"
     ]
    }
   ],
   "source": [
    "# Botões\n",
    "\n",
    "img = cv2.imread('camisa.png',0)\n",
    "img = cv2.medianBlur(img,9)\n",
    "cimg = cv2.cvtColor(img,cv2.COLOR_GRAY2BGR)\n",
    "\n",
    "\n",
    "circles = cv2.HoughCircles(img,cv2.HOUGH_GRADIENT,1,50,\n",
    "                           param1=50,param2=15,\n",
    "                           minRadius=5,\n",
    "                           maxRadius=10\n",
    "                           )\n",
    "\n",
    "circles = np.uint16(np.around(circles))\n",
    "print(\"Numero de botoes detectados: \",circles.shape[1])\n",
    "for i in circles[0,:]:\n",
    "    # draw the outer circle\n",
    "    cv2.circle(cimg,(i[0],i[1]),i[2],(0,255,0),2)\n",
    "    # draw the center of the circle\n",
    "    cv2.circle(cimg,(i[0],i[1]),2,(0,0,255),3)\n",
    "\n",
    "\n",
    "cv2.imshow('Botoes Detectados', cimg)\n",
    "cv2.waitKey(0)\n",
    "cv2.destroyAllWindows()\n"
   ],
   "metadata": {
    "collapsed": false,
    "ExecuteTime": {
     "end_time": "2024-07-26T21:22:03.390615285Z",
     "start_time": "2024-07-26T21:22:00.579442200Z"
    }
   },
   "id": "62e287e67849e489",
   "execution_count": 46
  },
  {
   "cell_type": "code",
   "outputs": [],
   "source": [
    "# Costura da camisa:\n",
    "\n",
    "img = cv2.imread('camisa.png', 0)\n",
    "\n",
    "img_blur = cv2.medianBlur(img, 1)\n",
    "\n",
    "edges = cv2.Canny(img_blur, 50, 150, apertureSize=3)\n",
    "\n",
    "\n",
    "# Aplicar a Transformada de Hough para detectar linhas\n",
    "lines = cv2.HoughLinesP(\n",
    "    edges,\n",
    "    1,                       # Resolução em pixels\n",
    "    np.pi / 180,             # Resolução angular em radianos\n",
    "    threshold=50,            # Limiar para a detecção de linhas\n",
    "    minLineLength=1,       # Comprimento mínimo de uma linha\n",
    "    maxLineGap=10            # Máxima distância entre segmentos de linha\n",
    ")\n",
    "\n",
    "# Desenhar as linhas de costura na imagem original\n",
    "if lines is not None:\n",
    "    for line in lines:\n",
    "        x1, y1, x2, y2 = line[0]\n",
    "        cv2.line(cimg, (x1, y1), (x2, y2), (0, 0, 255), 2)\n",
    "\n",
    "# Mostrar a imagem com os botões detectados\n",
    "cv2.imshow('Costura da camisa:', cimg)\n",
    "\n",
    "cv2.waitKey(0)\n",
    "cv2.destroyAllWindows()"
   ],
   "metadata": {
    "collapsed": false,
    "ExecuteTime": {
     "end_time": "2024-07-26T21:22:05.698851062Z",
     "start_time": "2024-07-26T21:22:03.395601601Z"
    }
   },
   "id": "ca47258239567d07",
   "execution_count": 47
  },
  {
   "cell_type": "code",
   "outputs": [],
   "source": [],
   "metadata": {
    "collapsed": false,
    "ExecuteTime": {
     "end_time": "2024-07-26T21:22:05.705170344Z",
     "start_time": "2024-07-26T21:22:05.699994941Z"
    }
   },
   "id": "fa52c7809f00f9d4",
   "execution_count": 47
  }
 ],
 "metadata": {
  "kernelspec": {
   "display_name": "Python 3",
   "language": "python",
   "name": "python3"
  },
  "language_info": {
   "codemirror_mode": {
    "name": "ipython",
    "version": 2
   },
   "file_extension": ".py",
   "mimetype": "text/x-python",
   "name": "python",
   "nbconvert_exporter": "python",
   "pygments_lexer": "ipython2",
   "version": "2.7.6"
  }
 },
 "nbformat": 4,
 "nbformat_minor": 5
}
